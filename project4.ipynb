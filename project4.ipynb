{
 "cells": [
  {
   "cell_type": "markdown",
   "metadata": {},
   "source": [
    "# **Math-485: Topics in Data Science**\n",
    "\n",
    "## **Textual Data Unit Project**\n",
    "\n",
    "### Josh Winnes\n",
    "---\n",
    "## **Objective**\n",
    "\n",
    "To produce an experimental evaluation of classifier performance on UN SDG labeled textual data. The evaluation should be conducted on a set of algorithms in combination with a set of NLP preprocessing steps, and conclude with the best performing algorithm with the associated preprocessing steps.\n",
    "\n",
    "## **Specifications**\n",
    "\n",
    "* prepare data as having been done in class and homework  \n",
    "* write a function that will   \n",
    "  * takes in a corpus (such as prepared so far) as input, and  \n",
    "  * takes another parameter of “classifier\\_algorithm” for the algorithm to use, the parameter settings for the algorithm should be part of the “classifier\\_algorithm” parameter  \n",
    "  * run the classifier with train\\_test split, i.e., train on the training set and test on the test set  \n",
    "  * report the metrics of precision, recall, f1\\_score, and accuracy  \n",
    "* run various classification algorithms on the UN SDG labeled data we have been using in class  \n",
    "  * multinomial naive bayes   \n",
    "  * multilayer perceptron (sklearn.neural\\_network.MLPClassifier, note to use min\\_df to ensure computation can be completed in reasonable time)  \n",
    "  * ridge regression (sklearn.linear\\_model.Ridge)  \n",
    "  * combine with different preprocessing settings  \n",
    "    * use count vectors vs. tfidf vectors  \n",
    "    * use unigram only, bigram only, or both  \n",
    "* evaluate all performance results in one table, with all configurations, bold face the numbers that give the best performance\n",
    "\n",
    "for example, for one configuration, e.g., bigram with min\\_df \\= 3, the portion of table should contain\n",
    "\n",
    "|  | MultinomialNB | MLP | Ridge |\n",
    "| :---- | :---- | :---- | :---- |\n",
    "| precision |  |  |  |\n",
    "| recall |  |  |  |\n",
    "| f1 |  |  |  |\n",
    "| accuracy |  |  |  |\n",
    "\n",
    "* for each SDG, what are the most differentiating features according to the classifier?  \n",
    "* are there any overlaps between the SDG vocabularies?\n",
    "\n",
    "## **Deliverables**\n",
    "\n",
    "* A self contained python jupyter notebook that implements the specifications.  \n",
    "* take the main text content from these pages, and feed them into your classifier and see how your model classifies them. Are the classifications reasonable? find a case where your classification is not reasonable and explain what the model does that leads to the not ideal classification.  \n",
    "  [http://gianttortoise.org/en/beyond-tracking](http://gianttortoise.org/en/beyond-tracking)  \n",
    "  [https://www.dhs.gov/blue-campaign/what-human-trafficking](https://www.dhs.gov/blue-campaign/what-human-trafficking)  \n",
    "  [https://www.dol.gov/agencies/odep/program-areas/individuals/older-workers](https://www.dol.gov/agencies/odep/program-areas/individuals/older-workers)  \n",
    "  [https://michigantoday.umich.edu/2022/08/26/positively-breaking-the-age-code/](https://michigantoday.umich.edu/2022/08/26/positively-breaking-the-age-code/)\n",
    "\n",
    "## **Important note (to help reduce computation time if that is an issue)**\n",
    "\n",
    "* when the classification takes too long to run on your computer (most likely they will on this project), set min\\_df in the vectorizer to reduce the vocabulary size, which will reduce the matrix size drastically.   \n",
    "* if you choose to run experiments on fewer number of SDGs, please be sure to include SDG 8 in your collection, and choose several others among  \\[2,3,4,8,9,10,14,15,16\\], to show your work on multiple classes\n",
    "\n",
    "---"
   ]
  },
  {
   "cell_type": "markdown",
   "metadata": {},
   "source": [
    "### **Scraping the Websites using Beautiful Soup 4**\n",
    "This is necessary in order to get the text data into a dataframe so we can actually process the text in the website using our sklearn models later"
   ]
  },
  {
   "cell_type": "code",
   "execution_count": 2,
   "metadata": {},
   "outputs": [
    {
     "data": {
      "text/html": [
       "<div>\n",
       "<style scoped>\n",
       "    .dataframe tbody tr th:only-of-type {\n",
       "        vertical-align: middle;\n",
       "    }\n",
       "\n",
       "    .dataframe tbody tr th {\n",
       "        vertical-align: top;\n",
       "    }\n",
       "\n",
       "    .dataframe thead th {\n",
       "        text-align: right;\n",
       "    }\n",
       "</style>\n",
       "<table border=\"1\" class=\"dataframe\">\n",
       "  <thead>\n",
       "    <tr style=\"text-align: right;\">\n",
       "      <th></th>\n",
       "      <th>url</th>\n",
       "      <th>text</th>\n",
       "    </tr>\n",
       "  </thead>\n",
       "  <tbody>\n",
       "    <tr>\n",
       "      <th>0</th>\n",
       "      <td>http://gianttortoise.org/en/beyond-tracking</td>\n",
       "      <td>Having discovered some of the mechanisms gover...</td>\n",
       "    </tr>\n",
       "    <tr>\n",
       "      <th>1</th>\n",
       "      <td>https://www.dhs.gov/blue-campaign/what-human-t...</td>\n",
       "      <td>Human trafficking involves the use of force, f...</td>\n",
       "    </tr>\n",
       "    <tr>\n",
       "      <th>2</th>\n",
       "      <td>https://www.dol.gov/agencies/odep/program-area...</td>\n",
       "      <td>Today, a confluence of factors is prompting Am...</td>\n",
       "    </tr>\n",
       "    <tr>\n",
       "      <th>3</th>\n",
       "      <td>https://michigantoday.umich.edu/2022/08/26/pos...</td>\n",
       "      <td>Scientist/author Becca Levy, BA ’87, is a prof...</td>\n",
       "    </tr>\n",
       "  </tbody>\n",
       "</table>\n",
       "</div>"
      ],
      "text/plain": [
       "                                                 url  \\\n",
       "0        http://gianttortoise.org/en/beyond-tracking   \n",
       "1  https://www.dhs.gov/blue-campaign/what-human-t...   \n",
       "2  https://www.dol.gov/agencies/odep/program-area...   \n",
       "3  https://michigantoday.umich.edu/2022/08/26/pos...   \n",
       "\n",
       "                                                text  \n",
       "0  Having discovered some of the mechanisms gover...  \n",
       "1  Human trafficking involves the use of force, f...  \n",
       "2  Today, a confluence of factors is prompting Am...  \n",
       "3  Scientist/author Becca Levy, BA ’87, is a prof...  "
      ]
     },
     "execution_count": 2,
     "metadata": {},
     "output_type": "execute_result"
    }
   ],
   "source": [
    "import requests\n",
    "from bs4 import BeautifulSoup\n",
    "import pandas as pd\n",
    "\n",
    "# List of URLs to scrape\n",
    "urls = [\n",
    "    \"http://gianttortoise.org/en/beyond-tracking\",\n",
    "    \"https://www.dhs.gov/blue-campaign/what-human-trafficking\",\n",
    "    \"https://www.dol.gov/agencies/odep/program-areas/individuals/older-workers\",\n",
    "    \"https://michigantoday.umich.edu/2022/08/26/positively-breaking-the-age-code/\"\n",
    "]\n",
    "\n",
    "# Dictionary that links URLs to HTML Class names to locate the main text\n",
    "class_name_dict = {\n",
    "    \"http://gianttortoise.org/en/beyond-tracking\":'elementor-container elementor-column-gap-default',\n",
    "    \"https://www.dhs.gov/blue-campaign/what-human-trafficking\":'field field--name-body field--type-text-with-summary field--label-hidden field__item',\n",
    "    \"https://www.dol.gov/agencies/odep/program-areas/individuals/older-workers\":'field field--name-field-p-text field--type-text-long field--label-hidden clearfix',\n",
    "    \"https://michigantoday.umich.edu/2022/08/26/positively-breaking-the-age-code/\":'post'\n",
    "}\n",
    "\n",
    "# Function to extract the main text from a webpage\n",
    "def extract_main_text(url, class_name):\n",
    "    response = requests.get(url)\n",
    "\n",
    "    soup = BeautifulSoup(response.content, \"html.parser\")\n",
    "\n",
    "    # Extract main text        \n",
    "    divs = soup.find_all('div', class_ = class_name)\n",
    "    text = ''\n",
    "    for div in divs:\n",
    "        p_elements = div.find_all('p')\n",
    "        li_elements = div.find_all('li')\n",
    "        for p in p_elements:\n",
    "            text += p.get_text() + \" \"\n",
    "        for li in li_elements:\n",
    "            text += li.get_text() + ' '\n",
    "\n",
    "    return text\n",
    "\n",
    "data = {\"url\": [], \"text\": []}\n",
    "\n",
    "for url in urls:\n",
    "    text = extract_main_text(url, class_name_dict.get(url))\n",
    "    data[\"url\"].append(url)\n",
    "    data[\"text\"].append(text)\n",
    "\n",
    "# Create a DataFrame\n",
    "df = pd.DataFrame(data)\n",
    "\n",
    "df.head()"
   ]
  },
  {
   "cell_type": "markdown",
   "metadata": {},
   "source": [
    "### **Importing the training data**"
   ]
  },
  {
   "cell_type": "code",
   "execution_count": 3,
   "metadata": {},
   "outputs": [],
   "source": [
    "import pandas as pd\n",
    "import numpy as np\n",
    "import seaborn as sns \n",
    "from matplotlib import pyplot as plt\n",
    "import matplotlib as mpl\n",
    "from sklearn import metrics\n",
    "from sklearn.metrics import confusion_matrix\n",
    "from sklearn.metrics import ConfusionMatrixDisplay\n",
    "from sklearn.model_selection import train_test_split\n",
    "from sklearn.naive_bayes import MultinomialNB\n",
    "from sklearn.neural_network import MLPClassifier\n",
    "\n",
    "from sklearn.ensemble import RandomForestClassifier\n",
    "from sklearn.feature_extraction.text import CountVectorizer\n",
    "from sklearn.feature_extraction.text import TfidfVectorizer\n",
    "\n",
    "from langdetect import detect"
   ]
  },
  {
   "cell_type": "code",
   "execution_count": 4,
   "metadata": {},
   "outputs": [],
   "source": [
    "data_dir = \"/Users/joshwinnes/Library/Mobile Documents/com~apple~CloudDocs/Wheaton College/fall 2024/topics in data science/data/\"\n",
    "sdg_names = pd.read_csv(data_dir + \"sdg_name_definition.csv\")\n",
    "\n",
    "text_file_name = \"osdg-community-data-v2024-04-01.csv\"\n",
    "text_df = pd.read_csv(data_dir + text_file_name,sep = \"\\t\",  quotechar='\"')\n",
    "text_df.drop(text_df.columns.values[0],axis = 1, inplace=True)\n",
    "text_df = text_df.query(\"agreement > 0.5 and (labels_positive - labels_negative) > 2\").reset_index(drop=True)\n",
    "text_df[\"lang\"] = text_df[\"text\"].apply(lambda x: detect(x))\n",
    "text_df = text_df.query(\"lang == 'en'\")\n",
    "text_df.reset_index(inplace=True,drop=True)"
   ]
  },
  {
   "cell_type": "code",
   "execution_count": 5,
   "metadata": {},
   "outputs": [
    {
     "data": {
      "text/html": [
       "<div>\n",
       "<style scoped>\n",
       "    .dataframe tbody tr th:only-of-type {\n",
       "        vertical-align: middle;\n",
       "    }\n",
       "\n",
       "    .dataframe tbody tr th {\n",
       "        vertical-align: top;\n",
       "    }\n",
       "\n",
       "    .dataframe thead th {\n",
       "        text-align: right;\n",
       "    }\n",
       "</style>\n",
       "<table border=\"1\" class=\"dataframe\">\n",
       "  <thead>\n",
       "    <tr style=\"text-align: right;\">\n",
       "      <th></th>\n",
       "      <th>term</th>\n",
       "      <th>freq</th>\n",
       "    </tr>\n",
       "  </thead>\n",
       "  <tbody>\n",
       "    <tr>\n",
       "      <th>countries</th>\n",
       "      <td>countries</td>\n",
       "      <td>8493</td>\n",
       "    </tr>\n",
       "    <tr>\n",
       "      <th>women</th>\n",
       "      <td>women</td>\n",
       "      <td>6017</td>\n",
       "    </tr>\n",
       "    <tr>\n",
       "      <th>development</th>\n",
       "      <td>development</td>\n",
       "      <td>5889</td>\n",
       "    </tr>\n",
       "    <tr>\n",
       "      <th>public</th>\n",
       "      <td>public</td>\n",
       "      <td>4819</td>\n",
       "    </tr>\n",
       "    <tr>\n",
       "      <th>social</th>\n",
       "      <td>social</td>\n",
       "      <td>4755</td>\n",
       "    </tr>\n",
       "    <tr>\n",
       "      <th>...</th>\n",
       "      <td>...</td>\n",
       "      <td>...</td>\n",
       "    </tr>\n",
       "    <tr>\n",
       "      <th>paik</th>\n",
       "      <td>paik</td>\n",
       "      <td>1</td>\n",
       "    </tr>\n",
       "    <tr>\n",
       "      <th>paiis</th>\n",
       "      <td>paiis</td>\n",
       "      <td>1</td>\n",
       "    </tr>\n",
       "    <tr>\n",
       "      <th>paie</th>\n",
       "      <td>paie</td>\n",
       "      <td>1</td>\n",
       "    </tr>\n",
       "    <tr>\n",
       "      <th>escarpment</th>\n",
       "      <td>escarpment</td>\n",
       "      <td>1</td>\n",
       "    </tr>\n",
       "    <tr>\n",
       "      <th>jostedalsbreen</th>\n",
       "      <td>jostedalsbreen</td>\n",
       "      <td>1</td>\n",
       "    </tr>\n",
       "  </tbody>\n",
       "</table>\n",
       "<p>45837 rows × 2 columns</p>\n",
       "</div>"
      ],
      "text/plain": [
       "                          term  freq\n",
       "countries            countries  8493\n",
       "women                    women  6017\n",
       "development        development  5889\n",
       "public                  public  4819\n",
       "social                  social  4755\n",
       "...                        ...   ...\n",
       "paik                      paik     1\n",
       "paiis                    paiis     1\n",
       "paie                      paie     1\n",
       "escarpment          escarpment     1\n",
       "jostedalsbreen  jostedalsbreen     1\n",
       "\n",
       "[45837 rows x 2 columns]"
      ]
     },
     "execution_count": 5,
     "metadata": {},
     "output_type": "execute_result"
    }
   ],
   "source": [
    "corpus = text_df.text\n",
    "count_vectorizer = CountVectorizer(stop_words='english')\n",
    "count_vectorizer.fit(corpus)\n",
    "count_vector = count_vectorizer.transform(corpus).toarray() \n",
    "count_vector_df = pd.DataFrame(count_vector, columns=count_vectorizer.get_feature_names_out())\n",
    "term_freq = pd.DataFrame({\"term\": count_vector_df.columns.values, \"freq\" : count_vector_df.sum(axis=0)})\n",
    "term_freq.sort_values(by=\"freq\", ascending=False)"
   ]
  },
  {
   "cell_type": "code",
   "execution_count": 6,
   "metadata": {},
   "outputs": [],
   "source": [
    "corpus = text_df.text\n",
    "sdg_num = text_df.sdg\n",
    "X_train, X_test, y_train, y_test = \\\n",
    "    train_test_split(corpus, sdg_num, test_size=0.20, random_state=11)\n",
    "    \n",
    "X_train_count_vector = count_vectorizer.transform(X_train) \n",
    "X_test_count_vector = count_vectorizer.transform(X_test) "
   ]
  },
  {
   "cell_type": "code",
   "execution_count": 7,
   "metadata": {},
   "outputs": [
    {
     "data": {
      "text/html": [
       "<div>\n",
       "<style scoped>\n",
       "    .dataframe tbody tr th:only-of-type {\n",
       "        vertical-align: middle;\n",
       "    }\n",
       "\n",
       "    .dataframe tbody tr th {\n",
       "        vertical-align: top;\n",
       "    }\n",
       "\n",
       "    .dataframe thead th {\n",
       "        text-align: right;\n",
       "    }\n",
       "</style>\n",
       "<table border=\"1\" class=\"dataframe\">\n",
       "  <thead>\n",
       "    <tr style=\"text-align: right;\">\n",
       "      <th></th>\n",
       "      <th>term</th>\n",
       "      <th>freq</th>\n",
       "    </tr>\n",
       "  </thead>\n",
       "  <tbody>\n",
       "    <tr>\n",
       "      <th>countries</th>\n",
       "      <td>countries</td>\n",
       "      <td>463.284281</td>\n",
       "    </tr>\n",
       "    <tr>\n",
       "      <th>women</th>\n",
       "      <td>women</td>\n",
       "      <td>417.534654</td>\n",
       "    </tr>\n",
       "    <tr>\n",
       "      <th>water</th>\n",
       "      <td>water</td>\n",
       "      <td>357.622939</td>\n",
       "    </tr>\n",
       "    <tr>\n",
       "      <th>development</th>\n",
       "      <td>development</td>\n",
       "      <td>354.622130</td>\n",
       "    </tr>\n",
       "    <tr>\n",
       "      <th>health</th>\n",
       "      <td>health</td>\n",
       "      <td>336.864059</td>\n",
       "    </tr>\n",
       "    <tr>\n",
       "      <th>...</th>\n",
       "      <td>...</td>\n",
       "      <td>...</td>\n",
       "    </tr>\n",
       "    <tr>\n",
       "      <th>emanuele</th>\n",
       "      <td>emanuele</td>\n",
       "      <td>0.082056</td>\n",
       "    </tr>\n",
       "    <tr>\n",
       "      <th>weimann</th>\n",
       "      <td>weimann</td>\n",
       "      <td>0.082056</td>\n",
       "    </tr>\n",
       "    <tr>\n",
       "      <th>gabriel</th>\n",
       "      <td>gabriel</td>\n",
       "      <td>0.082056</td>\n",
       "    </tr>\n",
       "    <tr>\n",
       "      <th>timcs</th>\n",
       "      <td>timcs</td>\n",
       "      <td>0.067789</td>\n",
       "    </tr>\n",
       "    <tr>\n",
       "      <th>timeslot</th>\n",
       "      <td>timeslot</td>\n",
       "      <td>0.067789</td>\n",
       "    </tr>\n",
       "  </tbody>\n",
       "</table>\n",
       "<p>45837 rows × 2 columns</p>\n",
       "</div>"
      ],
      "text/plain": [
       "                    term        freq\n",
       "countries      countries  463.284281\n",
       "women              women  417.534654\n",
       "water              water  357.622939\n",
       "development  development  354.622130\n",
       "health            health  336.864059\n",
       "...                  ...         ...\n",
       "emanuele        emanuele    0.082056\n",
       "weimann          weimann    0.082056\n",
       "gabriel          gabriel    0.082056\n",
       "timcs              timcs    0.067789\n",
       "timeslot        timeslot    0.067789\n",
       "\n",
       "[45837 rows x 2 columns]"
      ]
     },
     "execution_count": 7,
     "metadata": {},
     "output_type": "execute_result"
    }
   ],
   "source": [
    "corpus = text_df.text\n",
    "tfid_vectorizer = TfidfVectorizer(stop_words='english')\n",
    "tfid_vectorizer.fit(corpus)\n",
    "tfid_vector = tfid_vectorizer.transform(corpus).toarray() \n",
    "tfid_vector_df = pd.DataFrame(tfid_vector, columns=tfid_vectorizer.get_feature_names_out())\n",
    "term_freq_tfid = pd.DataFrame({\"term\": tfid_vector_df.columns.values, \"freq\" : tfid_vector_df.sum(axis=0)})\n",
    "term_freq_tfid.sort_values(by=\"freq\", ascending=False)"
   ]
  },
  {
   "cell_type": "code",
   "execution_count": 8,
   "metadata": {},
   "outputs": [],
   "source": [
    "corpus = text_df.text\n",
    "sdg_num = text_df.sdg\n",
    "X_train, X_test, y_train, y_test = \\\n",
    "    train_test_split(corpus, sdg_num, test_size=0.20, random_state=11)\n",
    "    \n",
    "X_train_tfid_vector = tfid_vectorizer.transform(X_train) \n",
    "X_test_tfid_vector = tfid_vectorizer.transform(X_test) "
   ]
  },
  {
   "cell_type": "markdown",
   "metadata": {},
   "source": [
    "### **Training the Models**"
   ]
  },
  {
   "cell_type": "markdown",
   "metadata": {},
   "source": [
    "### Multinomial Naive Bayes"
   ]
  },
  {
   "cell_type": "markdown",
   "metadata": {},
   "source": [
    "#### *Count Vector*"
   ]
  },
  {
   "cell_type": "code",
   "execution_count": null,
   "metadata": {},
   "outputs": [],
   "source": [
    "count_multinomialNB_clf = MultinomialNB().fit(X_train_count_vector, y_train)\n",
    "y_pred_mnb = count_multinomialNB_clf.predict(X_test_count_vector)\n",
    "fig, ax = plt.subplots(figsize=(15, 5))\n",
    "font = {'family': 'sans-serif', 'weight': 'heavy','size': 7,}\n",
    "ConfusionMatrixDisplay.from_predictions(y_test, y_pred_mnb, text_kw=font, ax=ax, cmap=mpl.colormaps[\"YlGnBu\"],colorbar=None)"
   ]
  },
  {
   "cell_type": "code",
   "execution_count": null,
   "metadata": {},
   "outputs": [],
   "source": [
    "print(metrics.classification_report(y_test,y_pred_mnb, digits = 4))"
   ]
  },
  {
   "cell_type": "code",
   "execution_count": null,
   "metadata": {},
   "outputs": [],
   "source": [
    "print('F1: ', metrics.f1_score(y_test, y_pred_mnb, average='weighted'))\n",
    "print('Accuracy: ', metrics.accuracy_score(y_test, y_pred_mnb))\n",
    "print('Precision: ', metrics.precision_score(y_test, y_pred_mnb, average='weighted'))\n",
    "print('Recall: ', metrics.recall_score(y_test, y_pred_mnb, average='weighted'))"
   ]
  },
  {
   "cell_type": "markdown",
   "metadata": {},
   "source": [
    "#### *TFID Vector*"
   ]
  },
  {
   "cell_type": "code",
   "execution_count": null,
   "metadata": {},
   "outputs": [],
   "source": [
    "tfid_multinomialNB_clf = MultinomialNB().fit(X_train_tfid_vector, y_train)\n",
    "y_pred_mnb_tfid = tfid_multinomialNB_clf.predict(X_test_tfid_vector)\n",
    "fig, ax = plt.subplots(figsize=(15, 5))\n",
    "font = {'family': 'sans-serif', 'weight': 'heavy','size': 7,}\n",
    "ConfusionMatrixDisplay.from_predictions(y_test, y_pred_mnb_tfid, text_kw=font, ax=ax, cmap=mpl.colormaps[\"YlGnBu\"],colorbar=None)"
   ]
  },
  {
   "cell_type": "code",
   "execution_count": null,
   "metadata": {},
   "outputs": [],
   "source": [
    "print(metrics.classification_report(y_test,y_pred_mnb_tfid, digits = 4))"
   ]
  },
  {
   "cell_type": "code",
   "execution_count": null,
   "metadata": {},
   "outputs": [],
   "source": [
    "print('F1: ', metrics.f1_score(y_test, y_pred_mnb_tfid, average='weighted'))\n",
    "print('Accuracy: ', metrics.accuracy_score(y_test, y_pred_mnb_tfid))\n",
    "print('Precision: ', metrics.precision_score(y_test, y_pred_mnb_tfid, average='weighted'))\n",
    "print('Recall: ', metrics.recall_score(y_test, y_pred_mnb_tfid, average='weighted'))"
   ]
  },
  {
   "cell_type": "markdown",
   "metadata": {},
   "source": [
    "### Multilayer Perceptron"
   ]
  },
  {
   "cell_type": "markdown",
   "metadata": {},
   "source": [
    "#### *Count Vector*"
   ]
  },
  {
   "cell_type": "code",
   "execution_count": null,
   "metadata": {},
   "outputs": [],
   "source": [
    "count_MLP_clf = MLPClassifier().fit(X_train_count_vector, y_train)\n",
    "y_pred_mlp = count_MLP_clf.predict(X_test_count_vector)\n",
    "fig, ax = plt.subplots(figsize=(15, 5))\n",
    "font = {'family': 'sans-serif', 'weight': 'heavy','size': 7,}\n",
    "ConfusionMatrixDisplay.from_predictions(y_test, y_pred_mlp, text_kw=font, ax=ax, cmap=mpl.colormaps[\"YlGnBu\"],colorbar=None)"
   ]
  },
  {
   "cell_type": "code",
   "execution_count": null,
   "metadata": {},
   "outputs": [],
   "source": [
    "print(metrics.classification_report(y_test,y_pred_mlp, digits = 4))"
   ]
  },
  {
   "cell_type": "code",
   "execution_count": null,
   "metadata": {},
   "outputs": [],
   "source": [
    "print('F1: ', metrics.f1_score(y_test, y_pred_mlp, average='weighted'))\n",
    "print('Accuracy: ', metrics.accuracy_score(y_test, y_pred_mlp))\n",
    "print('Precision: ', metrics.precision_score(y_test, y_pred_mlp, average='weighted'))\n",
    "print('Recall: ', metrics.recall_score(y_test, y_pred_mlp, average='weighted'))"
   ]
  },
  {
   "cell_type": "markdown",
   "metadata": {},
   "source": [
    "#### *TFID Vector*"
   ]
  },
  {
   "cell_type": "code",
   "execution_count": null,
   "metadata": {},
   "outputs": [],
   "source": [
    "tfid_MLP_clf = MLPClassifier().fit(X_train_tfid_vector, y_train)\n",
    "y_pred_mlp_tfid = tfid_MLP_clf.predict(X_test_tfid_vector)\n",
    "fig, ax = plt.subplots(figsize=(15, 5))\n",
    "font = {'family': 'sans-serif', 'weight': 'heavy','size': 7,}\n",
    "ConfusionMatrixDisplay.from_predictions(y_test, y_pred_mlp_tfid, text_kw=font, ax=ax, cmap=mpl.colormaps[\"YlGnBu\"],colorbar=None)"
   ]
  },
  {
   "cell_type": "code",
   "execution_count": null,
   "metadata": {},
   "outputs": [],
   "source": [
    "print(metrics.classification_report(y_test,y_pred_mlp_tfid, digits = 4))"
   ]
  },
  {
   "cell_type": "code",
   "execution_count": null,
   "metadata": {},
   "outputs": [],
   "source": [
    "print('F1: ', metrics.f1_score(y_test, y_pred_mlp_tfid, average='weighted'))\n",
    "print('Accuracy: ', metrics.accuracy_score(y_test, y_pred_mlp_tfid))\n",
    "print('Precision: ', metrics.precision_score(y_test, y_pred_mlp_tfid, average='weighted'))\n",
    "print('Recall: ', metrics.recall_score(y_test, y_pred_mlp_tfid, average='weighted'))"
   ]
  },
  {
   "cell_type": "markdown",
   "metadata": {},
   "source": [
    "### Ridge Classifier"
   ]
  },
  {
   "cell_type": "markdown",
   "metadata": {},
   "source": [
    "#### *Count Vector*"
   ]
  },
  {
   "cell_type": "code",
   "execution_count": null,
   "metadata": {},
   "outputs": [],
   "source": [
    "from sklearn.linear_model import RidgeClassifierCV"
   ]
  },
  {
   "cell_type": "code",
   "execution_count": null,
   "metadata": {},
   "outputs": [],
   "source": [
    "count_ridge_clf = RidgeClassifierCV(alphas=[0.1, 1.0, 10.0], cv=5, scoring='accuracy').fit(X_train_count_vector, y_train)\n",
    "y_pred_ridge = count_ridge_clf.predict(X_test_count_vector)\n",
    "fig, ax = plt.subplots(figsize=(15, 5))\n",
    "font = {'family': 'sans-serif', 'weight': 'heavy','size': 7,}\n",
    "ConfusionMatrixDisplay.from_predictions(y_test, y_pred_ridge, text_kw=font, ax=ax, cmap=mpl.colormaps[\"YlGnBu\"],colorbar=None)"
   ]
  },
  {
   "cell_type": "code",
   "execution_count": null,
   "metadata": {},
   "outputs": [],
   "source": [
    "print(metrics.classification_report(y_test,y_pred_ridge, digits = 4))"
   ]
  },
  {
   "cell_type": "code",
   "execution_count": null,
   "metadata": {},
   "outputs": [],
   "source": [
    "print('F1: ', metrics.f1_score(y_test, y_pred_ridge, average='weighted'))\n",
    "print('Accuracy: ', metrics.accuracy_score(y_test, y_pred_ridge))\n",
    "print('Precision: ', metrics.precision_score(y_test, y_pred_ridge, average='weighted'))\n",
    "print('Recall: ', metrics.recall_score(y_test, y_pred_ridge, average='weighted'))"
   ]
  },
  {
   "cell_type": "markdown",
   "metadata": {},
   "source": [
    "#### *TFID Vector*"
   ]
  },
  {
   "cell_type": "code",
   "execution_count": null,
   "metadata": {},
   "outputs": [],
   "source": [
    "tfid_ridge_clf = RidgeClassifierCV(alphas=[0.1, 1.0, 10.0], cv=5, scoring='accuracy').fit(X_train_tfid_vector, y_train)\n",
    "y_pred_ridge_tfid = count_ridge_clf.predict(X_test_tfid_vector)\n",
    "fig, ax = plt.subplots(figsize=(15, 5))\n",
    "font = {'family': 'sans-serif', 'weight': 'heavy','size': 7,}\n",
    "ConfusionMatrixDisplay.from_predictions(y_test, y_pred_ridge_tfid, text_kw=font, ax=ax, cmap=mpl.colormaps[\"YlGnBu\"],colorbar=None)"
   ]
  },
  {
   "cell_type": "code",
   "execution_count": null,
   "metadata": {},
   "outputs": [],
   "source": [
    "print(metrics.classification_report(y_test,y_pred_ridge_tfid, digits = 4))"
   ]
  },
  {
   "cell_type": "code",
   "execution_count": null,
   "metadata": {},
   "outputs": [],
   "source": [
    "print('F1: ', metrics.f1_score(y_test, y_pred_ridge_tfid, average='weighted'))\n",
    "print('Accuracy: ', metrics.accuracy_score(y_test, y_pred_ridge_tfid))\n",
    "print('Precision: ', metrics.precision_score(y_test, y_pred_ridge_tfid, average='weighted'))\n",
    "print('Recall: ', metrics.recall_score(y_test, y_pred_ridge_tfid, average='weighted'))"
   ]
  },
  {
   "cell_type": "markdown",
   "metadata": {},
   "source": [
    "### Random Forest"
   ]
  },
  {
   "cell_type": "markdown",
   "metadata": {},
   "source": [
    "#### *Count Vector*"
   ]
  },
  {
   "cell_type": "code",
   "execution_count": null,
   "metadata": {},
   "outputs": [],
   "source": [
    "from sklearn.ensemble import RandomForestClassifier"
   ]
  },
  {
   "cell_type": "code",
   "execution_count": null,
   "metadata": {},
   "outputs": [],
   "source": [
    "count_rf_clf = RandomForestClassifier(max_depth=100).fit(X_train_count_vector, y_train)\n",
    "y_pred_rf = count_rf_clf.predict(X_test_count_vector)\n",
    "fig, ax = plt.subplots(figsize=(15, 5))\n",
    "font = {'family': 'sans-serif', 'weight': 'heavy','size': 7,}\n",
    "ConfusionMatrixDisplay.from_predictions(y_test, y_pred_rf, text_kw=font, ax=ax, cmap=mpl.colormaps[\"YlGnBu\"],colorbar=None)"
   ]
  },
  {
   "cell_type": "code",
   "execution_count": null,
   "metadata": {},
   "outputs": [],
   "source": [
    "print(metrics.classification_report(y_test, y_pred_rf, digits=4))"
   ]
  },
  {
   "cell_type": "code",
   "execution_count": null,
   "metadata": {},
   "outputs": [],
   "source": [
    "print('F1: ', metrics.f1_score(y_test, y_pred_rf, average='weighted'))\n",
    "print('Accuracy: ', metrics.accuracy_score(y_test, y_pred_rf))\n",
    "print('Precision: ', metrics.precision_score(y_test, y_pred_rf, average='weighted'))\n",
    "print('Recall: ', metrics.recall_score(y_test, y_pred_rf, average='weighted'))"
   ]
  },
  {
   "cell_type": "markdown",
   "metadata": {},
   "source": [
    "#### *TFID Vector*"
   ]
  },
  {
   "cell_type": "code",
   "execution_count": null,
   "metadata": {},
   "outputs": [],
   "source": [
    "tfid_rf_clf = RandomForestClassifier(max_depth=100).fit(X_train_tfid_vector, y_train)\n",
    "y_pred_rf_tfid = count_rf_clf.predict(X_test_tfid_vector)\n",
    "fig, ax = plt.subplots(figsize=(15, 5))\n",
    "font = {'family': 'sans-serif', 'weight': 'heavy','size': 7,}\n",
    "ConfusionMatrixDisplay.from_predictions(y_test, y_pred_rf_tfid, text_kw=font, ax=ax, cmap=mpl.colormaps[\"YlGnBu\"],colorbar=None)"
   ]
  },
  {
   "cell_type": "code",
   "execution_count": null,
   "metadata": {},
   "outputs": [],
   "source": [
    "print(metrics.classification_report(y_test, y_pred_rf_tfid, digits=4))"
   ]
  },
  {
   "cell_type": "code",
   "execution_count": null,
   "metadata": {},
   "outputs": [],
   "source": [
    "print('F1: ', metrics.f1_score(y_test, y_pred_rf_tfid, average='weighted'))\n",
    "print('Accuracy: ', metrics.accuracy_score(y_test, y_pred_rf_tfid))\n",
    "print('Precision: ', metrics.precision_score(y_test, y_pred_rf_tfid, average='weighted'))\n",
    "print('Recall: ', metrics.recall_score(y_test, y_pred_rf_tfid, average='weighted'))"
   ]
  },
  {
   "cell_type": "markdown",
   "metadata": {},
   "source": [
    "### **Results**"
   ]
  },
  {
   "cell_type": "markdown",
   "metadata": {},
   "source": [
    "\n",
    "#### *Count Vectorizer Classification*\n",
    "|  | Multinomial NB | Multilayer Perceptron | Ridge | Random Forest |\n",
    "| :---- | :---- | :---- | :---- | :---- |\n",
    "| F1 | 0.838 | **0.876** | 0.871 | 0.825 |\n",
    "| Accuracy | 0.844 | **0.876** | 0.873 | 0.832 |\n",
    "| Precision | 0.848 | **0.876** | 0.872 | 0.829 |\n",
    "| Recall | 0.844 | **0.876** | 0.873 | 0.832 |\n",
    "#### *TF-IDF Vectorizer Classification*\n",
    "|  | Multinomial NB | Multilayer Perceptron | Ridge | Random Forest |\n",
    "| :---- | :---- | :---- | :---- | :---- |\n",
    "| F1 | 0.689 | **0.883** | 0.608 | 0.078 |\n",
    "| Accuracy | 0.719 | **0.884** | 0.612 | 0.107 |\n",
    "| Precision | 0.799 | **0.883** | 0.811 | 0.752 |\n",
    "| Recall | 0.719 | **0.883** | 0.612 | 0.107 |\n"
   ]
  },
  {
   "cell_type": "markdown",
   "metadata": {},
   "source": [
    "In both cases, the Multilayer Perceptron classifier had the best score. The TF-IDF Vectorized Multilayer Perceptron Classifier had the highest accuracy score with 0.884, so I will use that model to classify the websites."
   ]
  },
  {
   "cell_type": "markdown",
   "metadata": {},
   "source": [
    "### **Classifying the Websites**"
   ]
  },
  {
   "cell_type": "markdown",
   "metadata": {},
   "source": [
    "The Multilayer Perceptron Neural Network Classifier had the best accuracy score (0.87) so I will use it to classify the webpages."
   ]
  },
  {
   "cell_type": "code",
   "execution_count": null,
   "metadata": {},
   "outputs": [],
   "source": [
    "COUNT_CLASSIFIER = tfid_MLP_clf\n",
    "\n",
    "text_to_predict = df.text\n",
    "text_to_predict_transformed = count_vectorizer.transform(text_to_predict)\n",
    "\n",
    "print('Count MLP Classifier Predicitions: ', COUNT_CLASSIFIER.predict(text_to_predict_transformed))\n"
   ]
  },
  {
   "cell_type": "markdown",
   "metadata": {},
   "source": [
    "#### *Results Table*"
   ]
  },
  {
   "cell_type": "markdown",
   "metadata": {},
   "source": [
    "| URL | SDG |\n",
    "| ----- | ----- |\n",
    "| https://gianttortoise.org/en/beyond-tracking | 15 \\- Life on Land |\n",
    "| https://www.dhs.gov/blue-campaign/what-human-trafficking | 5 \\- Gender Equality |\n",
    "| https://www.dol.gov/agencies/odep/program-areas/individuals/older-workers | 4 \\- Quality Education |\n",
    "| https://michigantoday.umich.edu/2022/08/26/positively-breaking-the-age-code/ | 3 \\- Good Health and Well Being |"
   ]
  },
  {
   "cell_type": "markdown",
   "metadata": {},
   "source": [
    "### **Testing out GloVe**"
   ]
  },
  {
   "cell_type": "code",
   "execution_count": 9,
   "metadata": {},
   "outputs": [
    {
     "name": "stdout",
     "output_type": "stream",
     "text": [
      "Loaded 400000 word vectors.\n"
     ]
    }
   ],
   "source": [
    "# Path to the chosen GloVe file (e.g., 100-dimensional embeddings)\n",
    "glove_file = \"/Users/joshwinnes/Library/Mobile Documents/com~apple~CloudDocs/life things/data science/models/GloVe/glove.6B/glove.6B.100d.txt\"\n",
    "\n",
    "# Load the embeddings into a dictionary\n",
    "embeddings_index = {}\n",
    "with open(glove_file, \"r\", encoding=\"utf-8\") as f:\n",
    "    for line in f:\n",
    "        values = line.split()\n",
    "        word = values[0]\n",
    "        vector = np.asarray(values[1:], dtype=\"float32\")\n",
    "        embeddings_index[word] = vector\n",
    "\n",
    "print(f\"Loaded {len(embeddings_index)} word vectors.\")"
   ]
  },
  {
   "cell_type": "code",
   "execution_count": 10,
   "metadata": {},
   "outputs": [
    {
     "name": "stdout",
     "output_type": "stream",
     "text": [
      "Vocabulary size: 53975\n",
      "Padded sequences:\n",
      "[[   25    93    11 ...    16   864    89]\n",
      " [   91     1   667 ...    23 11569    67]\n",
      " [    1   850     2 ...  2598   590  2552]\n",
      " ...\n",
      " [   89  2021    70 ...   156 53974   204]\n",
      " [ 1919     3   186 ...     6  2049   379]\n",
      " [    1   409     2 ...  1324     4   358]]\n"
     ]
    }
   ],
   "source": [
    "from tensorflow.keras.preprocessing.text import Tokenizer\n",
    "from tensorflow.keras.preprocessing.sequence import pad_sequences\n",
    "\n",
    "# Tokenize the text\n",
    "tokenizer = Tokenizer()\n",
    "tokenizer.fit_on_texts(corpus)\n",
    "word_index = tokenizer.word_index\n",
    "print(f\"Vocabulary size: {len(word_index)}\")\n",
    "\n",
    "# Convert text to sequences\n",
    "sequences = tokenizer.texts_to_sequences(corpus)\n",
    "\n",
    "# Pad sequences to ensure uniform length\n",
    "max_length = 10  # Set desired max length\n",
    "padded_sequences = pad_sequences(sequences, maxlen=max_length, padding='post')\n",
    "print(f\"Padded sequences:\\n{padded_sequences}\")"
   ]
  },
  {
   "cell_type": "code",
   "execution_count": 11,
   "metadata": {},
   "outputs": [
    {
     "name": "stdout",
     "output_type": "stream",
     "text": [
      "Embedding matrix shape: (53976, 100)\n"
     ]
    }
   ],
   "source": [
    "embedding_dim = 100  # Match the dimension of the GloVe vectors\n",
    "\n",
    "# Initialize embedding matrix\n",
    "embedding_matrix = np.zeros((len(word_index) + 1, embedding_dim))\n",
    "\n",
    "for word, i in word_index.items():\n",
    "    embedding_vector = embeddings_index.get(word)\n",
    "    if embedding_vector is not None:\n",
    "        embedding_matrix[i] = embedding_vector\n",
    "\n",
    "print(f\"Embedding matrix shape: {embedding_matrix.shape}\")"
   ]
  },
  {
   "cell_type": "code",
   "execution_count": 12,
   "metadata": {},
   "outputs": [
    {
     "name": "stderr",
     "output_type": "stream",
     "text": [
      "/Users/joshwinnes/anaconda3/envs/nlp/lib/python3.12/site-packages/keras/src/layers/core/embedding.py:90: UserWarning: Argument `input_length` is deprecated. Just remove it.\n",
      "  warnings.warn(\n"
     ]
    },
    {
     "data": {
      "text/html": [
       "<pre style=\"white-space:pre;overflow-x:auto;line-height:normal;font-family:Menlo,'DejaVu Sans Mono',consolas,'Courier New',monospace\"><span style=\"font-weight: bold\">Model: \"sequential\"</span>\n",
       "</pre>\n"
      ],
      "text/plain": [
       "\u001b[1mModel: \"sequential\"\u001b[0m\n"
      ]
     },
     "metadata": {},
     "output_type": "display_data"
    },
    {
     "data": {
      "text/html": [
       "<pre style=\"white-space:pre;overflow-x:auto;line-height:normal;font-family:Menlo,'DejaVu Sans Mono',consolas,'Courier New',monospace\">┏━━━━━━━━━━━━━━━━━━━━━━━━━━━━━━━━━┳━━━━━━━━━━━━━━━━━━━━━━━━┳━━━━━━━━━━━━━━━┓\n",
       "┃<span style=\"font-weight: bold\"> Layer (type)                    </span>┃<span style=\"font-weight: bold\"> Output Shape           </span>┃<span style=\"font-weight: bold\">       Param # </span>┃\n",
       "┡━━━━━━━━━━━━━━━━━━━━━━━━━━━━━━━━━╇━━━━━━━━━━━━━━━━━━━━━━━━╇━━━━━━━━━━━━━━━┩\n",
       "│ embedding (<span style=\"color: #0087ff; text-decoration-color: #0087ff\">Embedding</span>)           │ ?                      │     <span style=\"color: #00af00; text-decoration-color: #00af00\">5,397,600</span> │\n",
       "├─────────────────────────────────┼────────────────────────┼───────────────┤\n",
       "│ lstm (<span style=\"color: #0087ff; text-decoration-color: #0087ff\">LSTM</span>)                     │ ?                      │   <span style=\"color: #00af00; text-decoration-color: #00af00\">0</span> (unbuilt) │\n",
       "├─────────────────────────────────┼────────────────────────┼───────────────┤\n",
       "│ dense (<span style=\"color: #0087ff; text-decoration-color: #0087ff\">Dense</span>)                   │ ?                      │   <span style=\"color: #00af00; text-decoration-color: #00af00\">0</span> (unbuilt) │\n",
       "├─────────────────────────────────┼────────────────────────┼───────────────┤\n",
       "│ dense_1 (<span style=\"color: #0087ff; text-decoration-color: #0087ff\">Dense</span>)                 │ ?                      │   <span style=\"color: #00af00; text-decoration-color: #00af00\">0</span> (unbuilt) │\n",
       "└─────────────────────────────────┴────────────────────────┴───────────────┘\n",
       "</pre>\n"
      ],
      "text/plain": [
       "┏━━━━━━━━━━━━━━━━━━━━━━━━━━━━━━━━━┳━━━━━━━━━━━━━━━━━━━━━━━━┳━━━━━━━━━━━━━━━┓\n",
       "┃\u001b[1m \u001b[0m\u001b[1mLayer (type)                   \u001b[0m\u001b[1m \u001b[0m┃\u001b[1m \u001b[0m\u001b[1mOutput Shape          \u001b[0m\u001b[1m \u001b[0m┃\u001b[1m \u001b[0m\u001b[1m      Param #\u001b[0m\u001b[1m \u001b[0m┃\n",
       "┡━━━━━━━━━━━━━━━━━━━━━━━━━━━━━━━━━╇━━━━━━━━━━━━━━━━━━━━━━━━╇━━━━━━━━━━━━━━━┩\n",
       "│ embedding (\u001b[38;5;33mEmbedding\u001b[0m)           │ ?                      │     \u001b[38;5;34m5,397,600\u001b[0m │\n",
       "├─────────────────────────────────┼────────────────────────┼───────────────┤\n",
       "│ lstm (\u001b[38;5;33mLSTM\u001b[0m)                     │ ?                      │   \u001b[38;5;34m0\u001b[0m (unbuilt) │\n",
       "├─────────────────────────────────┼────────────────────────┼───────────────┤\n",
       "│ dense (\u001b[38;5;33mDense\u001b[0m)                   │ ?                      │   \u001b[38;5;34m0\u001b[0m (unbuilt) │\n",
       "├─────────────────────────────────┼────────────────────────┼───────────────┤\n",
       "│ dense_1 (\u001b[38;5;33mDense\u001b[0m)                 │ ?                      │   \u001b[38;5;34m0\u001b[0m (unbuilt) │\n",
       "└─────────────────────────────────┴────────────────────────┴───────────────┘\n"
      ]
     },
     "metadata": {},
     "output_type": "display_data"
    },
    {
     "data": {
      "text/html": [
       "<pre style=\"white-space:pre;overflow-x:auto;line-height:normal;font-family:Menlo,'DejaVu Sans Mono',consolas,'Courier New',monospace\"><span style=\"font-weight: bold\"> Total params: </span><span style=\"color: #00af00; text-decoration-color: #00af00\">5,397,600</span> (20.59 MB)\n",
       "</pre>\n"
      ],
      "text/plain": [
       "\u001b[1m Total params: \u001b[0m\u001b[38;5;34m5,397,600\u001b[0m (20.59 MB)\n"
      ]
     },
     "metadata": {},
     "output_type": "display_data"
    },
    {
     "data": {
      "text/html": [
       "<pre style=\"white-space:pre;overflow-x:auto;line-height:normal;font-family:Menlo,'DejaVu Sans Mono',consolas,'Courier New',monospace\"><span style=\"font-weight: bold\"> Trainable params: </span><span style=\"color: #00af00; text-decoration-color: #00af00\">0</span> (0.00 B)\n",
       "</pre>\n"
      ],
      "text/plain": [
       "\u001b[1m Trainable params: \u001b[0m\u001b[38;5;34m0\u001b[0m (0.00 B)\n"
      ]
     },
     "metadata": {},
     "output_type": "display_data"
    },
    {
     "data": {
      "text/html": [
       "<pre style=\"white-space:pre;overflow-x:auto;line-height:normal;font-family:Menlo,'DejaVu Sans Mono',consolas,'Courier New',monospace\"><span style=\"font-weight: bold\"> Non-trainable params: </span><span style=\"color: #00af00; text-decoration-color: #00af00\">5,397,600</span> (20.59 MB)\n",
       "</pre>\n"
      ],
      "text/plain": [
       "\u001b[1m Non-trainable params: \u001b[0m\u001b[38;5;34m5,397,600\u001b[0m (20.59 MB)\n"
      ]
     },
     "metadata": {},
     "output_type": "display_data"
    }
   ],
   "source": [
    "from tensorflow.keras.models import Sequential\n",
    "from tensorflow.keras.layers import Embedding, Dense, LSTM, Flatten\n",
    "\n",
    "# Define the model\n",
    "model = Sequential([\n",
    "    Embedding(input_dim=len(word_index) + 1,\n",
    "              output_dim=embedding_dim,\n",
    "              weights=[embedding_matrix],\n",
    "              input_length=max_length,\n",
    "              trainable=False),  # Freeze the embeddings\n",
    "    LSTM(128, return_sequences=False),  # Use LSTM for sequential data\n",
    "    Dense(64, activation='relu'),\n",
    "    Dense(1, activation='sigmoid')  # For binary classification\n",
    "])\n",
    "\n",
    "model.compile(optimizer='adam', loss='binary_crossentropy', metrics=['accuracy'])\n",
    "model.summary()"
   ]
  },
  {
   "cell_type": "code",
   "execution_count": 16,
   "metadata": {},
   "outputs": [
    {
     "name": "stdout",
     "output_type": "stream",
     "text": [
      "Epoch 1/10\n",
      "\u001b[1m828/828\u001b[0m \u001b[32m━━━━━━━━━━━━━━━━━━━━\u001b[0m\u001b[37m\u001b[0m \u001b[1m7s\u001b[0m 6ms/step - accuracy: 0.0535 - loss: -4552.2251\n",
      "Epoch 2/10\n",
      "\u001b[1m828/828\u001b[0m \u001b[32m━━━━━━━━━━━━━━━━━━━━\u001b[0m\u001b[37m\u001b[0m \u001b[1m5s\u001b[0m 6ms/step - accuracy: 0.0536 - loss: -59473.1875\n",
      "Epoch 3/10\n",
      "\u001b[1m828/828\u001b[0m \u001b[32m━━━━━━━━━━━━━━━━━━━━\u001b[0m\u001b[37m\u001b[0m \u001b[1m5s\u001b[0m 6ms/step - accuracy: 0.0530 - loss: -175006.7031\n",
      "Epoch 4/10\n",
      "\u001b[1m828/828\u001b[0m \u001b[32m━━━━━━━━━━━━━━━━━━━━\u001b[0m\u001b[37m\u001b[0m \u001b[1m5s\u001b[0m 6ms/step - accuracy: 0.0571 - loss: -338629.1562\n",
      "Epoch 5/10\n",
      "\u001b[1m828/828\u001b[0m \u001b[32m━━━━━━━━━━━━━━━━━━━━\u001b[0m\u001b[37m\u001b[0m \u001b[1m5s\u001b[0m 6ms/step - accuracy: 0.0527 - loss: -546262.8125\n",
      "Epoch 6/10\n",
      "\u001b[1m828/828\u001b[0m \u001b[32m━━━━━━━━━━━━━━━━━━━━\u001b[0m\u001b[37m\u001b[0m \u001b[1m5s\u001b[0m 6ms/step - accuracy: 0.0568 - loss: -783133.6250\n",
      "Epoch 7/10\n",
      "\u001b[1m828/828\u001b[0m \u001b[32m━━━━━━━━━━━━━━━━━━━━\u001b[0m\u001b[37m\u001b[0m \u001b[1m5s\u001b[0m 6ms/step - accuracy: 0.0551 - loss: -1073969.2500\n",
      "Epoch 8/10\n",
      "\u001b[1m828/828\u001b[0m \u001b[32m━━━━━━━━━━━━━━━━━━━━\u001b[0m\u001b[37m\u001b[0m \u001b[1m5s\u001b[0m 6ms/step - accuracy: 0.0575 - loss: -1368344.0000\n",
      "Epoch 9/10\n",
      "\u001b[1m828/828\u001b[0m \u001b[32m━━━━━━━━━━━━━━━━━━━━\u001b[0m\u001b[37m\u001b[0m \u001b[1m5s\u001b[0m 6ms/step - accuracy: 0.0573 - loss: -1712902.3750\n",
      "Epoch 10/10\n",
      "\u001b[1m828/828\u001b[0m \u001b[32m━━━━━━━━━━━━━━━━━━━━\u001b[0m\u001b[37m\u001b[0m \u001b[1m5s\u001b[0m 6ms/step - accuracy: 0.0559 - loss: -2091616.7500\n"
     ]
    },
    {
     "data": {
      "text/plain": [
       "<keras.src.callbacks.history.History at 0x7d2791d30>"
      ]
     },
     "execution_count": 16,
     "metadata": {},
     "output_type": "execute_result"
    }
   ],
   "source": [
    "# Train the model\n",
    "model.fit(padded_sequences, text_df.sdg, epochs=10, batch_size=32)"
   ]
  },
  {
   "cell_type": "markdown",
   "metadata": {},
   "source": [
    "trying again"
   ]
  },
  {
   "cell_type": "code",
   "execution_count": 32,
   "metadata": {},
   "outputs": [],
   "source": [
    "import tensorflow as tf\n",
    "\n",
    "# Define the model architecture again\n",
    "model = tf.keras.Sequential([\n",
    "    tf.keras.layers.Embedding(len(word_index), embedding_dim),\n",
    "    tf.keras.layers.Flatten(),\n",
    "    tf.keras.layers.Dense(128, activation='relu'),\n",
    "    tf.keras.layers.Dense(len(text_df.sdg.unique()), activation='softmax')\n",
    "])"
   ]
  },
  {
   "cell_type": "code",
   "execution_count": 33,
   "metadata": {},
   "outputs": [],
   "source": [
    "model.compile(\n",
    "    optimizer='adam',                   # Optimizer used for training\n",
    "    loss='categorical_crossentropy',    # Loss function for multi-class classification\n",
    "    metrics=['accuracy']                # Evaluation metric to track performance during training\n",
    ")"
   ]
  },
  {
   "cell_type": "code",
   "execution_count": 37,
   "metadata": {},
   "outputs": [
    {
     "name": "stdout",
     "output_type": "stream",
     "text": [
      "Epoch 1/10\n"
     ]
    },
    {
     "ename": "ValueError",
     "evalue": "Attr 'Toutput_types' of 'OptionalFromValue' Op passed list of length 0 less than minimum 1.",
     "output_type": "error",
     "traceback": [
      "\u001b[0;31m---------------------------------------------------------------------------\u001b[0m",
      "\u001b[0;31mValueError\u001b[0m                                Traceback (most recent call last)",
      "\u001b[1;32m/Users/joshwinnes/Library/Mobile Documents/com~apple~CloudDocs/life things/data science/Projects/Webpage Text Classification/project4.ipynb Cell 67\u001b[0m line \u001b[0;36m3\n\u001b[1;32m      <a href='vscode-notebook-cell:/Users/joshwinnes/Library/Mobile%20Documents/com~apple~CloudDocs/life%20things/data%20science/Projects/Webpage%20Text%20Classification/project4.ipynb#Y200sZmlsZQ%3D%3D?line=0'>1</a>\u001b[0m \u001b[39mfrom\u001b[39;00m \u001b[39mtensorflow\u001b[39;00m\u001b[39m.\u001b[39;00m\u001b[39mkeras\u001b[39;00m\u001b[39m.\u001b[39;00m\u001b[39mutils\u001b[39;00m \u001b[39mimport\u001b[39;00m to_categorical\n\u001b[0;32m----> <a href='vscode-notebook-cell:/Users/joshwinnes/Library/Mobile%20Documents/com~apple~CloudDocs/life%20things/data%20science/Projects/Webpage%20Text%20Classification/project4.ipynb#Y200sZmlsZQ%3D%3D?line=2'>3</a>\u001b[0m model\u001b[39m.\u001b[39mfit(padded_sequences, text_df\u001b[39m.\u001b[39msdg, epochs\u001b[39m=\u001b[39m\u001b[39m10\u001b[39m, batch_size\u001b[39m=\u001b[39m\u001b[39m32\u001b[39m)\n",
      "File \u001b[0;32m~/anaconda3/envs/nlp/lib/python3.12/site-packages/keras/src/utils/traceback_utils.py:122\u001b[0m, in \u001b[0;36mfilter_traceback.<locals>.error_handler\u001b[0;34m(*args, **kwargs)\u001b[0m\n\u001b[1;32m    119\u001b[0m     filtered_tb \u001b[39m=\u001b[39m _process_traceback_frames(e\u001b[39m.\u001b[39m__traceback__)\n\u001b[1;32m    120\u001b[0m     \u001b[39m# To get the full stack trace, call:\u001b[39;00m\n\u001b[1;32m    121\u001b[0m     \u001b[39m# `keras.config.disable_traceback_filtering()`\u001b[39;00m\n\u001b[0;32m--> 122\u001b[0m     \u001b[39mraise\u001b[39;00m e\u001b[39m.\u001b[39mwith_traceback(filtered_tb) \u001b[39mfrom\u001b[39;00m \u001b[39mNone\u001b[39;00m\n\u001b[1;32m    123\u001b[0m \u001b[39mfinally\u001b[39;00m:\n\u001b[1;32m    124\u001b[0m     \u001b[39mdel\u001b[39;00m filtered_tb\n",
      "File \u001b[0;32m~/anaconda3/envs/nlp/lib/python3.12/site-packages/keras/src/backend/tensorflow/trainer.py:128\u001b[0m, in \u001b[0;36mTensorFlowTrainer._make_function.<locals>.multi_step_on_iterator\u001b[0;34m(iterator)\u001b[0m\n\u001b[1;32m    125\u001b[0m \u001b[39m@tf\u001b[39m\u001b[39m.\u001b[39mautograph\u001b[39m.\u001b[39mexperimental\u001b[39m.\u001b[39mdo_not_convert\n\u001b[1;32m    126\u001b[0m \u001b[39mdef\u001b[39;00m \u001b[39mmulti_step_on_iterator\u001b[39m(iterator):\n\u001b[1;32m    127\u001b[0m     \u001b[39mif\u001b[39;00m \u001b[39mself\u001b[39m\u001b[39m.\u001b[39msteps_per_execution \u001b[39m==\u001b[39m \u001b[39m1\u001b[39m:\n\u001b[0;32m--> 128\u001b[0m         \u001b[39mreturn\u001b[39;00m tf\u001b[39m.\u001b[39mexperimental\u001b[39m.\u001b[39mOptional\u001b[39m.\u001b[39mfrom_value(\n\u001b[1;32m    129\u001b[0m             one_step_on_data(iterator\u001b[39m.\u001b[39mget_next())\n\u001b[1;32m    130\u001b[0m         )\n\u001b[1;32m    132\u001b[0m     \u001b[39m# the spec is set lazily during the tracing of `tf.while_loop`\u001b[39;00m\n\u001b[1;32m    133\u001b[0m     empty_outputs \u001b[39m=\u001b[39m tf\u001b[39m.\u001b[39mexperimental\u001b[39m.\u001b[39mOptional\u001b[39m.\u001b[39mempty(\u001b[39mNone\u001b[39;00m)\n",
      "\u001b[0;31mValueError\u001b[0m: Attr 'Toutput_types' of 'OptionalFromValue' Op passed list of length 0 less than minimum 1."
     ]
    }
   ],
   "source": [
    "from tensorflow.keras.utils import to_categorical\n",
    "\n",
    "model.fit(padded_sequences, text_df.sdg, epochs=10, batch_size=32)"
   ]
  },
  {
   "cell_type": "code",
   "execution_count": 39,
   "metadata": {},
   "outputs": [
    {
     "data": {
      "text/html": [
       "<div>\n",
       "<style scoped>\n",
       "    .dataframe tbody tr th:only-of-type {\n",
       "        vertical-align: middle;\n",
       "    }\n",
       "\n",
       "    .dataframe tbody tr th {\n",
       "        vertical-align: top;\n",
       "    }\n",
       "\n",
       "    .dataframe thead th {\n",
       "        text-align: right;\n",
       "    }\n",
       "</style>\n",
       "<table border=\"1\" class=\"dataframe\">\n",
       "  <thead>\n",
       "    <tr style=\"text-align: right;\">\n",
       "      <th></th>\n",
       "      <th>text_id</th>\n",
       "      <th>text</th>\n",
       "      <th>sdg</th>\n",
       "      <th>labels_negative</th>\n",
       "      <th>labels_positive</th>\n",
       "      <th>agreement</th>\n",
       "      <th>lang</th>\n",
       "    </tr>\n",
       "  </thead>\n",
       "  <tbody>\n",
       "    <tr>\n",
       "      <th>0</th>\n",
       "      <td>00021941702cd84171ff33962197ca1f</td>\n",
       "      <td>From a gender perspective, Paulgaard points ou...</td>\n",
       "      <td>5</td>\n",
       "      <td>1</td>\n",
       "      <td>8</td>\n",
       "      <td>0.777778</td>\n",
       "      <td>en</td>\n",
       "    </tr>\n",
       "    <tr>\n",
       "      <th>1</th>\n",
       "      <td>0004eb64f96e1620cd852603d9cbe4d4</td>\n",
       "      <td>The average figure also masks large difference...</td>\n",
       "      <td>3</td>\n",
       "      <td>1</td>\n",
       "      <td>8</td>\n",
       "      <td>0.777778</td>\n",
       "      <td>en</td>\n",
       "    </tr>\n",
       "    <tr>\n",
       "      <th>2</th>\n",
       "      <td>000b54717f2deea5d99055b4c1c2bf5a</td>\n",
       "      <td>These findings are consistent with previous wo...</td>\n",
       "      <td>10</td>\n",
       "      <td>2</td>\n",
       "      <td>7</td>\n",
       "      <td>0.555556</td>\n",
       "      <td>en</td>\n",
       "    </tr>\n",
       "    <tr>\n",
       "      <th>3</th>\n",
       "      <td>000bfb17e9f3a00d4515ab59c5c487e7</td>\n",
       "      <td>The Israel Oceanographic and Limnological Rese...</td>\n",
       "      <td>6</td>\n",
       "      <td>0</td>\n",
       "      <td>3</td>\n",
       "      <td>1.000000</td>\n",
       "      <td>en</td>\n",
       "    </tr>\n",
       "    <tr>\n",
       "      <th>4</th>\n",
       "      <td>001180f5dd9a821e651ed51e30d0cf8c</td>\n",
       "      <td>Previous chapters have discussed ways to make ...</td>\n",
       "      <td>2</td>\n",
       "      <td>0</td>\n",
       "      <td>3</td>\n",
       "      <td>1.000000</td>\n",
       "      <td>en</td>\n",
       "    </tr>\n",
       "    <tr>\n",
       "      <th>...</th>\n",
       "      <td>...</td>\n",
       "      <td>...</td>\n",
       "      <td>...</td>\n",
       "      <td>...</td>\n",
       "      <td>...</td>\n",
       "      <td>...</td>\n",
       "      <td>...</td>\n",
       "    </tr>\n",
       "    <tr>\n",
       "      <th>26466</th>\n",
       "      <td>ffeb4e2b3d0f4d449053b1b15f51e4eb</td>\n",
       "      <td>In Mauritius, housing development for the econ...</td>\n",
       "      <td>11</td>\n",
       "      <td>1</td>\n",
       "      <td>10</td>\n",
       "      <td>0.818182</td>\n",
       "      <td>en</td>\n",
       "    </tr>\n",
       "    <tr>\n",
       "      <th>26467</th>\n",
       "      <td>ffef3ec4ea192cdfed2ca43d4b2208a9</td>\n",
       "      <td>In consequence, the number of urban dwellers p...</td>\n",
       "      <td>3</td>\n",
       "      <td>0</td>\n",
       "      <td>11</td>\n",
       "      <td>1.000000</td>\n",
       "      <td>en</td>\n",
       "    </tr>\n",
       "    <tr>\n",
       "      <th>26468</th>\n",
       "      <td>fff9b6b75bde5397ba26ed1b163ad306</td>\n",
       "      <td>It also features individual accountability, wh...</td>\n",
       "      <td>4</td>\n",
       "      <td>0</td>\n",
       "      <td>9</td>\n",
       "      <td>1.000000</td>\n",
       "      <td>en</td>\n",
       "    </tr>\n",
       "    <tr>\n",
       "      <th>26469</th>\n",
       "      <td>fffe58dae29de6b843aff09b6e2f77f0</td>\n",
       "      <td>Groundwater quality can also be affected by co...</td>\n",
       "      <td>6</td>\n",
       "      <td>0</td>\n",
       "      <td>3</td>\n",
       "      <td>1.000000</td>\n",
       "      <td>en</td>\n",
       "    </tr>\n",
       "    <tr>\n",
       "      <th>26470</th>\n",
       "      <td>ffffcd9cc3f5d943560fe90fb9354ba5</td>\n",
       "      <td>The three diseases that resulted in the greate...</td>\n",
       "      <td>3</td>\n",
       "      <td>1</td>\n",
       "      <td>7</td>\n",
       "      <td>0.750000</td>\n",
       "      <td>en</td>\n",
       "    </tr>\n",
       "  </tbody>\n",
       "</table>\n",
       "<p>26471 rows × 7 columns</p>\n",
       "</div>"
      ],
      "text/plain": [
       "                                text_id  \\\n",
       "0      00021941702cd84171ff33962197ca1f   \n",
       "1      0004eb64f96e1620cd852603d9cbe4d4   \n",
       "2      000b54717f2deea5d99055b4c1c2bf5a   \n",
       "3      000bfb17e9f3a00d4515ab59c5c487e7   \n",
       "4      001180f5dd9a821e651ed51e30d0cf8c   \n",
       "...                                 ...   \n",
       "26466  ffeb4e2b3d0f4d449053b1b15f51e4eb   \n",
       "26467  ffef3ec4ea192cdfed2ca43d4b2208a9   \n",
       "26468  fff9b6b75bde5397ba26ed1b163ad306   \n",
       "26469  fffe58dae29de6b843aff09b6e2f77f0   \n",
       "26470  ffffcd9cc3f5d943560fe90fb9354ba5   \n",
       "\n",
       "                                                    text  sdg  \\\n",
       "0      From a gender perspective, Paulgaard points ou...    5   \n",
       "1      The average figure also masks large difference...    3   \n",
       "2      These findings are consistent with previous wo...   10   \n",
       "3      The Israel Oceanographic and Limnological Rese...    6   \n",
       "4      Previous chapters have discussed ways to make ...    2   \n",
       "...                                                  ...  ...   \n",
       "26466  In Mauritius, housing development for the econ...   11   \n",
       "26467  In consequence, the number of urban dwellers p...    3   \n",
       "26468  It also features individual accountability, wh...    4   \n",
       "26469  Groundwater quality can also be affected by co...    6   \n",
       "26470  The three diseases that resulted in the greate...    3   \n",
       "\n",
       "       labels_negative  labels_positive  agreement lang  \n",
       "0                    1                8   0.777778   en  \n",
       "1                    1                8   0.777778   en  \n",
       "2                    2                7   0.555556   en  \n",
       "3                    0                3   1.000000   en  \n",
       "4                    0                3   1.000000   en  \n",
       "...                ...              ...        ...  ...  \n",
       "26466                1               10   0.818182   en  \n",
       "26467                0               11   1.000000   en  \n",
       "26468                0                9   1.000000   en  \n",
       "26469                0                3   1.000000   en  \n",
       "26470                1                7   0.750000   en  \n",
       "\n",
       "[26471 rows x 7 columns]"
      ]
     },
     "execution_count": 39,
     "metadata": {},
     "output_type": "execute_result"
    }
   ],
   "source": [
    "text_df"
   ]
  },
  {
   "cell_type": "markdown",
   "metadata": {},
   "source": [
    "trying again from the beginning"
   ]
  },
  {
   "cell_type": "code",
   "execution_count": 44,
   "metadata": {},
   "outputs": [],
   "source": [
    "import numpy as np\n",
    "import pandas as pd\n",
    "from sklearn.preprocessing import LabelEncoder\n",
    "from tensorflow.keras.preprocessing.text import Tokenizer\n",
    "from tensorflow.keras.preprocessing.sequence import pad_sequences\n",
    "from tensorflow.keras.utils import to_categorical\n",
    "from sklearn.model_selection import train_test_split\n",
    "\n",
    "\n",
    "\n",
    "# Sample data preparation\n",
    "# Assuming `df` is your DataFrame with 'text' and 'sdg' columns\n",
    "texts = text_df['text'].values  # Your text data\n",
    "labels = text_df['sdg'].values  # Your SDG labels\n",
    "\n",
    "# Split the data into training and testing sets (80% training, 20% testing)\n",
    "X_train, X_test, y_train, y_test = train_test_split(\n",
    "    texts, labels, test_size=0.2, random_state=42\n",
    ")\n",
    "\n",
    "# Encode labels\n",
    "label_encoder = LabelEncoder()\n",
    "labels_encoded = label_encoder.fit_transform(labels)\n",
    "num_classes = len(label_encoder.classes_)  # Number of unique labels\n",
    "\n",
    "# Convert labels to one-hot encoding\n",
    "labels_one_hot = to_categorical(labels_encoded, num_classes=num_classes)\n",
    "\n",
    "# Tokenize text\n",
    "max_words = 10000  # The number of unique words to consider\n",
    "max_length = 100  # Maximum length of sequences\n",
    "\n",
    "# Tokenize the training and testing data\n",
    "tokenizer = Tokenizer(num_words=max_words)\n",
    "tokenizer.fit_on_texts(X_train)\n",
    "\n",
    "# Convert text data to sequences\n",
    "train_sequences = tokenizer.texts_to_sequences(X_train)\n",
    "test_sequences = tokenizer.texts_to_sequences(X_test)\n",
    "\n",
    "# Pad the sequences to ensure uniform input size\n",
    "X_train_padded = pad_sequences(train_sequences, maxlen=max_length)\n",
    "X_test_padded = pad_sequences(test_sequences, maxlen=max_length)\n",
    "\n",
    "# Encode the labels for training and testing sets\n",
    "y_train_encoded = label_encoder.transform(y_train)\n",
    "y_test_encoded = label_encoder.transform(y_test)\n",
    "\n",
    "# Convert labels to one-hot encoding\n",
    "y_train_one_hot = to_categorical(y_train_encoded, num_classes=num_classes)\n",
    "y_test_one_hot = to_categorical(y_test_encoded, num_classes=num_classes)"
   ]
  },
  {
   "cell_type": "code",
   "execution_count": 45,
   "metadata": {},
   "outputs": [
    {
     "name": "stderr",
     "output_type": "stream",
     "text": [
      "/Users/joshwinnes/anaconda3/envs/nlp/lib/python3.12/site-packages/keras/src/layers/core/embedding.py:90: UserWarning: Argument `input_length` is deprecated. Just remove it.\n",
      "  warnings.warn(\n"
     ]
    }
   ],
   "source": [
    "import tensorflow as tf\n",
    "\n",
    "# Load pre-trained GloVe embeddings (e.g., 100-dimensional)\n",
    "embedding_dim = 100\n",
    "embedding_path = glove_file  # Adjust this path to your GloVe file location\n",
    "\n",
    "# Load GloVe embeddings into a dictionary\n",
    "embedding_index = {}\n",
    "with open(embedding_path, 'r', encoding='utf-8') as f:\n",
    "    for line in f:\n",
    "        values = line.split()\n",
    "        word = values[0]\n",
    "        coefs = np.asarray(values[1:], dtype='float32')\n",
    "        embedding_index[word] = coefs\n",
    "\n",
    "# Create an embedding matrix for the words in the tokenizer\n",
    "word_index = tokenizer.word_index\n",
    "embedding_matrix = np.zeros((len(word_index) + 1, embedding_dim))\n",
    "for word, i in word_index.items():\n",
    "    if i > max_words:\n",
    "        continue\n",
    "    embedding_vector = embedding_index.get(word)\n",
    "    if embedding_vector is not None:\n",
    "        embedding_matrix[i] = embedding_vector\n",
    "\n",
    "# Create the embedding layer\n",
    "embedding_layer = tf.keras.layers.Embedding(\n",
    "    input_dim=len(word_index) + 1,\n",
    "    output_dim=embedding_dim,\n",
    "    weights=[embedding_matrix],\n",
    "    input_length=max_length,\n",
    "    trainable=False  # Set to True if you want to fine-tune the embeddings\n",
    ")"
   ]
  },
  {
   "cell_type": "code",
   "execution_count": 46,
   "metadata": {},
   "outputs": [
    {
     "data": {
      "text/html": [
       "<pre style=\"white-space:pre;overflow-x:auto;line-height:normal;font-family:Menlo,'DejaVu Sans Mono',consolas,'Courier New',monospace\"><span style=\"font-weight: bold\">Model: \"sequential_5\"</span>\n",
       "</pre>\n"
      ],
      "text/plain": [
       "\u001b[1mModel: \"sequential_5\"\u001b[0m\n"
      ]
     },
     "metadata": {},
     "output_type": "display_data"
    },
    {
     "data": {
      "text/html": [
       "<pre style=\"white-space:pre;overflow-x:auto;line-height:normal;font-family:Menlo,'DejaVu Sans Mono',consolas,'Courier New',monospace\">┏━━━━━━━━━━━━━━━━━━━━━━━━━━━━━━━━━┳━━━━━━━━━━━━━━━━━━━━━━━━┳━━━━━━━━━━━━━━━┓\n",
       "┃<span style=\"font-weight: bold\"> Layer (type)                    </span>┃<span style=\"font-weight: bold\"> Output Shape           </span>┃<span style=\"font-weight: bold\">       Param # </span>┃\n",
       "┡━━━━━━━━━━━━━━━━━━━━━━━━━━━━━━━━━╇━━━━━━━━━━━━━━━━━━━━━━━━╇━━━━━━━━━━━━━━━┩\n",
       "│ embedding_5 (<span style=\"color: #0087ff; text-decoration-color: #0087ff\">Embedding</span>)         │ ?                      │     <span style=\"color: #00af00; text-decoration-color: #00af00\">4,801,400</span> │\n",
       "├─────────────────────────────────┼────────────────────────┼───────────────┤\n",
       "│ flatten_4 (<span style=\"color: #0087ff; text-decoration-color: #0087ff\">Flatten</span>)             │ ?                      │   <span style=\"color: #00af00; text-decoration-color: #00af00\">0</span> (unbuilt) │\n",
       "├─────────────────────────────────┼────────────────────────┼───────────────┤\n",
       "│ dense_10 (<span style=\"color: #0087ff; text-decoration-color: #0087ff\">Dense</span>)                │ ?                      │   <span style=\"color: #00af00; text-decoration-color: #00af00\">0</span> (unbuilt) │\n",
       "├─────────────────────────────────┼────────────────────────┼───────────────┤\n",
       "│ dense_11 (<span style=\"color: #0087ff; text-decoration-color: #0087ff\">Dense</span>)                │ ?                      │   <span style=\"color: #00af00; text-decoration-color: #00af00\">0</span> (unbuilt) │\n",
       "└─────────────────────────────────┴────────────────────────┴───────────────┘\n",
       "</pre>\n"
      ],
      "text/plain": [
       "┏━━━━━━━━━━━━━━━━━━━━━━━━━━━━━━━━━┳━━━━━━━━━━━━━━━━━━━━━━━━┳━━━━━━━━━━━━━━━┓\n",
       "┃\u001b[1m \u001b[0m\u001b[1mLayer (type)                   \u001b[0m\u001b[1m \u001b[0m┃\u001b[1m \u001b[0m\u001b[1mOutput Shape          \u001b[0m\u001b[1m \u001b[0m┃\u001b[1m \u001b[0m\u001b[1m      Param #\u001b[0m\u001b[1m \u001b[0m┃\n",
       "┡━━━━━━━━━━━━━━━━━━━━━━━━━━━━━━━━━╇━━━━━━━━━━━━━━━━━━━━━━━━╇━━━━━━━━━━━━━━━┩\n",
       "│ embedding_5 (\u001b[38;5;33mEmbedding\u001b[0m)         │ ?                      │     \u001b[38;5;34m4,801,400\u001b[0m │\n",
       "├─────────────────────────────────┼────────────────────────┼───────────────┤\n",
       "│ flatten_4 (\u001b[38;5;33mFlatten\u001b[0m)             │ ?                      │   \u001b[38;5;34m0\u001b[0m (unbuilt) │\n",
       "├─────────────────────────────────┼────────────────────────┼───────────────┤\n",
       "│ dense_10 (\u001b[38;5;33mDense\u001b[0m)                │ ?                      │   \u001b[38;5;34m0\u001b[0m (unbuilt) │\n",
       "├─────────────────────────────────┼────────────────────────┼───────────────┤\n",
       "│ dense_11 (\u001b[38;5;33mDense\u001b[0m)                │ ?                      │   \u001b[38;5;34m0\u001b[0m (unbuilt) │\n",
       "└─────────────────────────────────┴────────────────────────┴───────────────┘\n"
      ]
     },
     "metadata": {},
     "output_type": "display_data"
    },
    {
     "data": {
      "text/html": [
       "<pre style=\"white-space:pre;overflow-x:auto;line-height:normal;font-family:Menlo,'DejaVu Sans Mono',consolas,'Courier New',monospace\"><span style=\"font-weight: bold\"> Total params: </span><span style=\"color: #00af00; text-decoration-color: #00af00\">4,801,400</span> (18.32 MB)\n",
       "</pre>\n"
      ],
      "text/plain": [
       "\u001b[1m Total params: \u001b[0m\u001b[38;5;34m4,801,400\u001b[0m (18.32 MB)\n"
      ]
     },
     "metadata": {},
     "output_type": "display_data"
    },
    {
     "data": {
      "text/html": [
       "<pre style=\"white-space:pre;overflow-x:auto;line-height:normal;font-family:Menlo,'DejaVu Sans Mono',consolas,'Courier New',monospace\"><span style=\"font-weight: bold\"> Trainable params: </span><span style=\"color: #00af00; text-decoration-color: #00af00\">0</span> (0.00 B)\n",
       "</pre>\n"
      ],
      "text/plain": [
       "\u001b[1m Trainable params: \u001b[0m\u001b[38;5;34m0\u001b[0m (0.00 B)\n"
      ]
     },
     "metadata": {},
     "output_type": "display_data"
    },
    {
     "data": {
      "text/html": [
       "<pre style=\"white-space:pre;overflow-x:auto;line-height:normal;font-family:Menlo,'DejaVu Sans Mono',consolas,'Courier New',monospace\"><span style=\"font-weight: bold\"> Non-trainable params: </span><span style=\"color: #00af00; text-decoration-color: #00af00\">4,801,400</span> (18.32 MB)\n",
       "</pre>\n"
      ],
      "text/plain": [
       "\u001b[1m Non-trainable params: \u001b[0m\u001b[38;5;34m4,801,400\u001b[0m (18.32 MB)\n"
      ]
     },
     "metadata": {},
     "output_type": "display_data"
    }
   ],
   "source": [
    "model = tf.keras.Sequential([\n",
    "    embedding_layer,\n",
    "    tf.keras.layers.Flatten(),  # You can use other layers like LSTM or GRU for sequential data\n",
    "    tf.keras.layers.Dense(128, activation='relu'),\n",
    "    tf.keras.layers.Dense(num_classes, activation='softmax')  # For multi-class classification\n",
    "])\n",
    "\n",
    "# Compile the model\n",
    "model.compile(optimizer='adam',\n",
    "              loss='categorical_crossentropy',\n",
    "              metrics=['accuracy'])\n",
    "\n",
    "# Summary of the model\n",
    "model.summary()"
   ]
  },
  {
   "cell_type": "code",
   "execution_count": 47,
   "metadata": {},
   "outputs": [
    {
     "name": "stdout",
     "output_type": "stream",
     "text": [
      "Epoch 1/10\n",
      "\u001b[1m659/662\u001b[0m \u001b[32m━━━━━━━━━━━━━━━━━━━\u001b[0m\u001b[37m━\u001b[0m \u001b[1m0s\u001b[0m 8ms/step - accuracy: 0.1082 - loss: 2.7944"
     ]
    },
    {
     "ename": "ValueError",
     "evalue": "Data cardinality is ambiguous. Make sure all arrays contain the same number of samples.'x' sizes: 5295\n'y' sizes: 0\n",
     "output_type": "error",
     "traceback": [
      "\u001b[0;31m---------------------------------------------------------------------------\u001b[0m",
      "\u001b[0;31mValueError\u001b[0m                                Traceback (most recent call last)",
      "\u001b[1;32m/Users/joshwinnes/Library/Mobile Documents/com~apple~CloudDocs/life things/data science/Projects/Webpage Text Classification/project4.ipynb Cell 73\u001b[0m line \u001b[0;36m2\n\u001b[1;32m      <a href='vscode-notebook-cell:/Users/joshwinnes/Library/Mobile%20Documents/com~apple~CloudDocs/life%20things/data%20science/Projects/Webpage%20Text%20Classification/project4.ipynb#Y213sZmlsZQ%3D%3D?line=0'>1</a>\u001b[0m \u001b[39m# Train the model\u001b[39;00m\n\u001b[0;32m----> <a href='vscode-notebook-cell:/Users/joshwinnes/Library/Mobile%20Documents/com~apple~CloudDocs/life%20things/data%20science/Projects/Webpage%20Text%20Classification/project4.ipynb#Y213sZmlsZQ%3D%3D?line=1'>2</a>\u001b[0m history \u001b[39m=\u001b[39m model\u001b[39m.\u001b[39mfit(padded_sequences, y_train_one_hot, epochs\u001b[39m=\u001b[39m\u001b[39m10\u001b[39m, batch_size\u001b[39m=\u001b[39m\u001b[39m32\u001b[39m, validation_split\u001b[39m=\u001b[39m\u001b[39m0.2\u001b[39m)\n",
      "File \u001b[0;32m~/anaconda3/envs/nlp/lib/python3.12/site-packages/keras/src/utils/traceback_utils.py:122\u001b[0m, in \u001b[0;36mfilter_traceback.<locals>.error_handler\u001b[0;34m(*args, **kwargs)\u001b[0m\n\u001b[1;32m    119\u001b[0m     filtered_tb \u001b[39m=\u001b[39m _process_traceback_frames(e\u001b[39m.\u001b[39m__traceback__)\n\u001b[1;32m    120\u001b[0m     \u001b[39m# To get the full stack trace, call:\u001b[39;00m\n\u001b[1;32m    121\u001b[0m     \u001b[39m# `keras.config.disable_traceback_filtering()`\u001b[39;00m\n\u001b[0;32m--> 122\u001b[0m     \u001b[39mraise\u001b[39;00m e\u001b[39m.\u001b[39mwith_traceback(filtered_tb) \u001b[39mfrom\u001b[39;00m \u001b[39mNone\u001b[39;00m\n\u001b[1;32m    123\u001b[0m \u001b[39mfinally\u001b[39;00m:\n\u001b[1;32m    124\u001b[0m     \u001b[39mdel\u001b[39;00m filtered_tb\n",
      "File \u001b[0;32m~/anaconda3/envs/nlp/lib/python3.12/site-packages/keras/src/trainers/data_adapters/data_adapter_utils.py:114\u001b[0m, in \u001b[0;36mcheck_data_cardinality\u001b[0;34m(data)\u001b[0m\n\u001b[1;32m    110\u001b[0m     sizes \u001b[39m=\u001b[39m \u001b[39m\"\u001b[39m\u001b[39m, \u001b[39m\u001b[39m\"\u001b[39m\u001b[39m.\u001b[39mjoin(\n\u001b[1;32m    111\u001b[0m         \u001b[39mstr\u001b[39m(i\u001b[39m.\u001b[39mshape[\u001b[39m0\u001b[39m]) \u001b[39mfor\u001b[39;00m i \u001b[39min\u001b[39;00m tree\u001b[39m.\u001b[39mflatten(single_data)\n\u001b[1;32m    112\u001b[0m     )\n\u001b[1;32m    113\u001b[0m     msg \u001b[39m+\u001b[39m\u001b[39m=\u001b[39m \u001b[39mf\u001b[39m\u001b[39m\"\u001b[39m\u001b[39m'\u001b[39m\u001b[39m{\u001b[39;00mlabel\u001b[39m}\u001b[39;00m\u001b[39m'\u001b[39m\u001b[39m sizes: \u001b[39m\u001b[39m{\u001b[39;00msizes\u001b[39m}\u001b[39;00m\u001b[39m\\n\u001b[39;00m\u001b[39m\"\u001b[39m\n\u001b[0;32m--> 114\u001b[0m \u001b[39mraise\u001b[39;00m \u001b[39mValueError\u001b[39;00m(msg)\n",
      "\u001b[0;31mValueError\u001b[0m: Data cardinality is ambiguous. Make sure all arrays contain the same number of samples.'x' sizes: 5295\n'y' sizes: 0\n"
     ]
    }
   ],
   "source": [
    "# Train the model\n",
    "history = model.fit(padded_sequences, y_train_one_hot, epochs=10, batch_size=32, validation_split=0.2)"
   ]
  },
  {
   "cell_type": "markdown",
   "metadata": {},
   "source": [
    "starting over from the beginning, making progress"
   ]
  },
  {
   "cell_type": "code",
   "execution_count": 48,
   "metadata": {},
   "outputs": [],
   "source": [
    "import numpy as np\n",
    "import pandas as pd\n",
    "from sklearn.model_selection import train_test_split\n",
    "from sklearn.preprocessing import LabelEncoder\n",
    "from tensorflow.keras.preprocessing.text import Tokenizer\n",
    "from tensorflow.keras.preprocessing.sequence import pad_sequences\n",
    "from tensorflow.keras.utils import to_categorical\n",
    "import tensorflow as tf"
   ]
  },
  {
   "cell_type": "code",
   "execution_count": 49,
   "metadata": {},
   "outputs": [],
   "source": [
    "# Sample data preparation\n",
    "texts = text_df['text'].values  # Your text data\n",
    "labels = text_df['sdg'].values  # Your SDG labels"
   ]
  },
  {
   "cell_type": "code",
   "execution_count": 50,
   "metadata": {},
   "outputs": [],
   "source": [
    "# Split the data into training and testing sets (80% training, 20% testing)\n",
    "X_train, X_test, y_train, y_test = train_test_split(\n",
    "    texts, labels, test_size=0.2, random_state=42\n",
    ")"
   ]
  },
  {
   "cell_type": "code",
   "execution_count": 51,
   "metadata": {},
   "outputs": [],
   "source": [
    "label_encoder = LabelEncoder()\n",
    "y_train_encoded = label_encoder.fit_transform(y_train)\n",
    "y_test_encoded = label_encoder.transform(y_test)\n",
    "num_classes = len(label_encoder.classes_)\n",
    "y_train_one_hot = to_categorical(y_train_encoded, num_classes=num_classes)\n",
    "y_test_one_hot = to_categorical(y_test_encoded, num_classes=num_classes)"
   ]
  },
  {
   "cell_type": "code",
   "execution_count": 52,
   "metadata": {},
   "outputs": [],
   "source": [
    "max_words = 10000  # Number of unique words to consider\n",
    "max_length = 100  # Maximum length of sequences\n",
    "\n",
    "# Tokenize the text\n",
    "tokenizer = Tokenizer(num_words=max_words)\n",
    "tokenizer.fit_on_texts(X_train)\n",
    "\n",
    "# Convert text data to sequences\n",
    "train_sequences = tokenizer.texts_to_sequences(X_train)\n",
    "test_sequences = tokenizer.texts_to_sequences(X_test)\n",
    "\n",
    "# Pad the sequences to ensure uniform input size\n",
    "X_train_padded = pad_sequences(train_sequences, maxlen=max_length)\n",
    "X_test_padded = pad_sequences(test_sequences, maxlen=max_length)"
   ]
  },
  {
   "cell_type": "code",
   "execution_count": 53,
   "metadata": {},
   "outputs": [
    {
     "name": "stderr",
     "output_type": "stream",
     "text": [
      "/Users/joshwinnes/anaconda3/envs/nlp/lib/python3.12/site-packages/keras/src/layers/core/embedding.py:90: UserWarning: Argument `input_length` is deprecated. Just remove it.\n",
      "  warnings.warn(\n"
     ]
    }
   ],
   "source": [
    "embedding_dim = 100  # Adjust this as needed\n",
    "embedding_path = glove_file  # Adjust this path to your GloVe file location\n",
    "\n",
    "# Load GloVe embeddings into a dictionary\n",
    "embedding_index = {}\n",
    "with open(embedding_path, 'r', encoding='utf-8') as f:\n",
    "    for line in f:\n",
    "        values = line.split()\n",
    "        word = values[0]\n",
    "        coefs = np.asarray(values[1:], dtype='float32')\n",
    "        embedding_index[word] = coefs\n",
    "\n",
    "# Create an embedding matrix for the words in the tokenizer\n",
    "word_index = tokenizer.word_index\n",
    "embedding_matrix = np.zeros((len(word_index) + 1, embedding_dim))\n",
    "for word, i in word_index.items():\n",
    "    if i > max_words:\n",
    "        continue\n",
    "    embedding_vector = embedding_index.get(word)\n",
    "    if embedding_vector is not None:\n",
    "        embedding_matrix[i] = embedding_vector\n",
    "\n",
    "# Create the embedding layer\n",
    "embedding_layer = tf.keras.layers.Embedding(\n",
    "    input_dim=len(word_index) + 1,\n",
    "    output_dim=embedding_dim,\n",
    "    weights=[embedding_matrix],\n",
    "    input_length=max_length,\n",
    "    trainable=False  # Set to True if you want to fine-tune the embeddings\n",
    ")"
   ]
  },
  {
   "cell_type": "code",
   "execution_count": 54,
   "metadata": {},
   "outputs": [
    {
     "data": {
      "text/html": [
       "<pre style=\"white-space:pre;overflow-x:auto;line-height:normal;font-family:Menlo,'DejaVu Sans Mono',consolas,'Courier New',monospace\"><span style=\"font-weight: bold\">Model: \"sequential_6\"</span>\n",
       "</pre>\n"
      ],
      "text/plain": [
       "\u001b[1mModel: \"sequential_6\"\u001b[0m\n"
      ]
     },
     "metadata": {},
     "output_type": "display_data"
    },
    {
     "data": {
      "text/html": [
       "<pre style=\"white-space:pre;overflow-x:auto;line-height:normal;font-family:Menlo,'DejaVu Sans Mono',consolas,'Courier New',monospace\">┏━━━━━━━━━━━━━━━━━━━━━━━━━━━━━━━━━┳━━━━━━━━━━━━━━━━━━━━━━━━┳━━━━━━━━━━━━━━━┓\n",
       "┃<span style=\"font-weight: bold\"> Layer (type)                    </span>┃<span style=\"font-weight: bold\"> Output Shape           </span>┃<span style=\"font-weight: bold\">       Param # </span>┃\n",
       "┡━━━━━━━━━━━━━━━━━━━━━━━━━━━━━━━━━╇━━━━━━━━━━━━━━━━━━━━━━━━╇━━━━━━━━━━━━━━━┩\n",
       "│ embedding_6 (<span style=\"color: #0087ff; text-decoration-color: #0087ff\">Embedding</span>)         │ ?                      │     <span style=\"color: #00af00; text-decoration-color: #00af00\">4,801,400</span> │\n",
       "├─────────────────────────────────┼────────────────────────┼───────────────┤\n",
       "│ flatten_5 (<span style=\"color: #0087ff; text-decoration-color: #0087ff\">Flatten</span>)             │ ?                      │   <span style=\"color: #00af00; text-decoration-color: #00af00\">0</span> (unbuilt) │\n",
       "├─────────────────────────────────┼────────────────────────┼───────────────┤\n",
       "│ dense_12 (<span style=\"color: #0087ff; text-decoration-color: #0087ff\">Dense</span>)                │ ?                      │   <span style=\"color: #00af00; text-decoration-color: #00af00\">0</span> (unbuilt) │\n",
       "├─────────────────────────────────┼────────────────────────┼───────────────┤\n",
       "│ dense_13 (<span style=\"color: #0087ff; text-decoration-color: #0087ff\">Dense</span>)                │ ?                      │   <span style=\"color: #00af00; text-decoration-color: #00af00\">0</span> (unbuilt) │\n",
       "└─────────────────────────────────┴────────────────────────┴───────────────┘\n",
       "</pre>\n"
      ],
      "text/plain": [
       "┏━━━━━━━━━━━━━━━━━━━━━━━━━━━━━━━━━┳━━━━━━━━━━━━━━━━━━━━━━━━┳━━━━━━━━━━━━━━━┓\n",
       "┃\u001b[1m \u001b[0m\u001b[1mLayer (type)                   \u001b[0m\u001b[1m \u001b[0m┃\u001b[1m \u001b[0m\u001b[1mOutput Shape          \u001b[0m\u001b[1m \u001b[0m┃\u001b[1m \u001b[0m\u001b[1m      Param #\u001b[0m\u001b[1m \u001b[0m┃\n",
       "┡━━━━━━━━━━━━━━━━━━━━━━━━━━━━━━━━━╇━━━━━━━━━━━━━━━━━━━━━━━━╇━━━━━━━━━━━━━━━┩\n",
       "│ embedding_6 (\u001b[38;5;33mEmbedding\u001b[0m)         │ ?                      │     \u001b[38;5;34m4,801,400\u001b[0m │\n",
       "├─────────────────────────────────┼────────────────────────┼───────────────┤\n",
       "│ flatten_5 (\u001b[38;5;33mFlatten\u001b[0m)             │ ?                      │   \u001b[38;5;34m0\u001b[0m (unbuilt) │\n",
       "├─────────────────────────────────┼────────────────────────┼───────────────┤\n",
       "│ dense_12 (\u001b[38;5;33mDense\u001b[0m)                │ ?                      │   \u001b[38;5;34m0\u001b[0m (unbuilt) │\n",
       "├─────────────────────────────────┼────────────────────────┼───────────────┤\n",
       "│ dense_13 (\u001b[38;5;33mDense\u001b[0m)                │ ?                      │   \u001b[38;5;34m0\u001b[0m (unbuilt) │\n",
       "└─────────────────────────────────┴────────────────────────┴───────────────┘\n"
      ]
     },
     "metadata": {},
     "output_type": "display_data"
    },
    {
     "data": {
      "text/html": [
       "<pre style=\"white-space:pre;overflow-x:auto;line-height:normal;font-family:Menlo,'DejaVu Sans Mono',consolas,'Courier New',monospace\"><span style=\"font-weight: bold\"> Total params: </span><span style=\"color: #00af00; text-decoration-color: #00af00\">4,801,400</span> (18.32 MB)\n",
       "</pre>\n"
      ],
      "text/plain": [
       "\u001b[1m Total params: \u001b[0m\u001b[38;5;34m4,801,400\u001b[0m (18.32 MB)\n"
      ]
     },
     "metadata": {},
     "output_type": "display_data"
    },
    {
     "data": {
      "text/html": [
       "<pre style=\"white-space:pre;overflow-x:auto;line-height:normal;font-family:Menlo,'DejaVu Sans Mono',consolas,'Courier New',monospace\"><span style=\"font-weight: bold\"> Trainable params: </span><span style=\"color: #00af00; text-decoration-color: #00af00\">0</span> (0.00 B)\n",
       "</pre>\n"
      ],
      "text/plain": [
       "\u001b[1m Trainable params: \u001b[0m\u001b[38;5;34m0\u001b[0m (0.00 B)\n"
      ]
     },
     "metadata": {},
     "output_type": "display_data"
    },
    {
     "data": {
      "text/html": [
       "<pre style=\"white-space:pre;overflow-x:auto;line-height:normal;font-family:Menlo,'DejaVu Sans Mono',consolas,'Courier New',monospace\"><span style=\"font-weight: bold\"> Non-trainable params: </span><span style=\"color: #00af00; text-decoration-color: #00af00\">4,801,400</span> (18.32 MB)\n",
       "</pre>\n"
      ],
      "text/plain": [
       "\u001b[1m Non-trainable params: \u001b[0m\u001b[38;5;34m4,801,400\u001b[0m (18.32 MB)\n"
      ]
     },
     "metadata": {},
     "output_type": "display_data"
    }
   ],
   "source": [
    "model = tf.keras.Sequential([\n",
    "    embedding_layer,\n",
    "    tf.keras.layers.Flatten(),  # You can use LSTM or GRU for sequential data\n",
    "    tf.keras.layers.Dense(128, activation='relu'),\n",
    "    tf.keras.layers.Dense(num_classes, activation='softmax')  # For multi-class classification\n",
    "])\n",
    "\n",
    "# Compile the model\n",
    "model.compile(optimizer='adam',\n",
    "              loss='categorical_crossentropy',\n",
    "              metrics=['accuracy'])\n",
    "\n",
    "# Display the model summary\n",
    "model.summary()"
   ]
  },
  {
   "cell_type": "code",
   "execution_count": 55,
   "metadata": {},
   "outputs": [
    {
     "name": "stdout",
     "output_type": "stream",
     "text": [
      "Epoch 1/10\n",
      "\u001b[1m530/530\u001b[0m \u001b[32m━━━━━━━━━━━━━━━━━━━━\u001b[0m\u001b[37m\u001b[0m \u001b[1m4s\u001b[0m 5ms/step - accuracy: 0.3901 - loss: 1.9727 - val_accuracy: 0.5831 - val_loss: 1.3079\n",
      "Epoch 2/10\n",
      "\u001b[1m530/530\u001b[0m \u001b[32m━━━━━━━━━━━━━━━━━━━━\u001b[0m\u001b[37m\u001b[0m \u001b[1m3s\u001b[0m 5ms/step - accuracy: 0.7903 - loss: 0.7054 - val_accuracy: 0.6369 - val_loss: 1.1741\n",
      "Epoch 3/10\n",
      "\u001b[1m530/530\u001b[0m \u001b[32m━━━━━━━━━━━━━━━━━━━━\u001b[0m\u001b[37m\u001b[0m \u001b[1m3s\u001b[0m 6ms/step - accuracy: 0.9277 - loss: 0.3082 - val_accuracy: 0.6176 - val_loss: 1.3145\n",
      "Epoch 4/10\n",
      "\u001b[1m530/530\u001b[0m \u001b[32m━━━━━━━━━━━━━━━━━━━━\u001b[0m\u001b[37m\u001b[0m \u001b[1m5s\u001b[0m 9ms/step - accuracy: 0.9793 - loss: 0.1300 - val_accuracy: 0.6367 - val_loss: 1.3973\n",
      "Epoch 5/10\n",
      "\u001b[1m530/530\u001b[0m \u001b[32m━━━━━━━━━━━━━━━━━━━━\u001b[0m\u001b[37m\u001b[0m \u001b[1m4s\u001b[0m 8ms/step - accuracy: 0.9968 - loss: 0.0505 - val_accuracy: 0.6261 - val_loss: 1.4666\n",
      "Epoch 6/10\n",
      "\u001b[1m530/530\u001b[0m \u001b[32m━━━━━━━━━━━━━━━━━━━━\u001b[0m\u001b[37m\u001b[0m \u001b[1m5s\u001b[0m 9ms/step - accuracy: 1.0000 - loss: 0.0191 - val_accuracy: 0.6357 - val_loss: 1.4952\n",
      "Epoch 7/10\n",
      "\u001b[1m530/530\u001b[0m \u001b[32m━━━━━━━━━━━━━━━━━━━━\u001b[0m\u001b[37m\u001b[0m \u001b[1m4s\u001b[0m 8ms/step - accuracy: 1.0000 - loss: 0.0089 - val_accuracy: 0.6369 - val_loss: 1.5440\n",
      "Epoch 8/10\n",
      "\u001b[1m530/530\u001b[0m \u001b[32m━━━━━━━━━━━━━━━━━━━━\u001b[0m\u001b[37m\u001b[0m \u001b[1m4s\u001b[0m 8ms/step - accuracy: 1.0000 - loss: 0.0053 - val_accuracy: 0.6383 - val_loss: 1.5848\n",
      "Epoch 9/10\n",
      "\u001b[1m530/530\u001b[0m \u001b[32m━━━━━━━━━━━━━━━━━━━━\u001b[0m\u001b[37m\u001b[0m \u001b[1m4s\u001b[0m 8ms/step - accuracy: 1.0000 - loss: 0.0034 - val_accuracy: 0.6400 - val_loss: 1.6297\n",
      "Epoch 10/10\n",
      "\u001b[1m530/530\u001b[0m \u001b[32m━━━━━━━━━━━━━━━━━━━━\u001b[0m\u001b[37m\u001b[0m \u001b[1m4s\u001b[0m 8ms/step - accuracy: 1.0000 - loss: 0.0024 - val_accuracy: 0.6376 - val_loss: 1.6711\n"
     ]
    }
   ],
   "source": [
    "# Train the model\n",
    "history = model.fit(X_train_padded, y_train_one_hot, epochs=10, batch_size=32, validation_split=0.2)"
   ]
  },
  {
   "cell_type": "code",
   "execution_count": 56,
   "metadata": {},
   "outputs": [
    {
     "name": "stdout",
     "output_type": "stream",
     "text": [
      "\u001b[1m166/166\u001b[0m \u001b[32m━━━━━━━━━━━━━━━━━━━━\u001b[0m\u001b[37m\u001b[0m \u001b[1m0s\u001b[0m 1ms/step - accuracy: 0.6521 - loss: 1.6623\n",
      "Test Loss: 1.6926798820495605, Test Accuracy: 0.6502360701560974\n"
     ]
    }
   ],
   "source": [
    "# Evaluate the model on the test data\n",
    "test_loss, test_acc = model.evaluate(X_test_padded, y_test_one_hot)\n",
    "print(f'Test Loss: {test_loss}, Test Accuracy: {test_acc}')"
   ]
  },
  {
   "cell_type": "code",
   "execution_count": 57,
   "metadata": {},
   "outputs": [
    {
     "name": "stdout",
     "output_type": "stream",
     "text": [
      "\u001b[1m166/166\u001b[0m \u001b[32m━━━━━━━━━━━━━━━━━━━━\u001b[0m\u001b[37m\u001b[0m \u001b[1m0s\u001b[0m 3ms/step\n"
     ]
    }
   ],
   "source": [
    "# Make predictions on the test set\n",
    "y_pred_prob = model.predict(X_test_padded)\n",
    "\n",
    "# Convert the probabilities to class labels\n",
    "y_pred = np.argmax(y_pred_prob, axis=1)"
   ]
  },
  {
   "cell_type": "code",
   "execution_count": 58,
   "metadata": {},
   "outputs": [],
   "source": [
    "# Convert the one-hot encoded true labels to class labels\n",
    "y_true = np.argmax(y_test_one_hot, axis=1)"
   ]
  },
  {
   "cell_type": "code",
   "execution_count": 59,
   "metadata": {},
   "outputs": [
    {
     "data": {
      "image/png": "[encoded data removed]",
      "text/plain": [
       "<Figure size 1200x1000 with 2 Axes>"
      ]
     },
     "metadata": {},
     "output_type": "display_data"
    }
   ],
   "source": [
    "from sklearn.metrics import confusion_matrix\n",
    "import seaborn as sns\n",
    "import matplotlib.pyplot as plt\n",
    "\n",
    "# Generate the confusion matrix\n",
    "conf_matrix = confusion_matrix(y_true, y_pred)\n",
    "\n",
    "# Plot the confusion matrix\n",
    "plt.figure(figsize=(12, 10))\n",
    "sns.heatmap(conf_matrix, annot=True, fmt='d', cmap='Blues', xticklabels=label_encoder.classes_, yticklabels=label_encoder.classes_)\n",
    "plt.title('Confusion Matrix')\n",
    "plt.xlabel('Predicted Labels')\n",
    "plt.ylabel('True Labels')\n",
    "plt.show()"
   ]
  },
  {
   "cell_type": "code",
   "execution_count": 60,
   "metadata": {},
   "outputs": [
    {
     "data": {
      "text/html": [
       "<div>\n",
       "<style scoped>\n",
       "    .dataframe tbody tr th:only-of-type {\n",
       "        vertical-align: middle;\n",
       "    }\n",
       "\n",
       "    .dataframe tbody tr th {\n",
       "        vertical-align: top;\n",
       "    }\n",
       "\n",
       "    .dataframe thead th {\n",
       "        text-align: right;\n",
       "    }\n",
       "</style>\n",
       "<table border=\"1\" class=\"dataframe\">\n",
       "  <thead>\n",
       "    <tr style=\"text-align: right;\">\n",
       "      <th></th>\n",
       "      <th>url</th>\n",
       "      <th>text</th>\n",
       "    </tr>\n",
       "  </thead>\n",
       "  <tbody>\n",
       "    <tr>\n",
       "      <th>0</th>\n",
       "      <td>http://gianttortoise.org/en/beyond-tracking</td>\n",
       "      <td>Having discovered some of the mechanisms gover...</td>\n",
       "    </tr>\n",
       "    <tr>\n",
       "      <th>1</th>\n",
       "      <td>https://www.dhs.gov/blue-campaign/what-human-t...</td>\n",
       "      <td>Human trafficking involves the use of force, f...</td>\n",
       "    </tr>\n",
       "    <tr>\n",
       "      <th>2</th>\n",
       "      <td>https://www.dol.gov/agencies/odep/program-area...</td>\n",
       "      <td>Today, a confluence of factors is prompting Am...</td>\n",
       "    </tr>\n",
       "    <tr>\n",
       "      <th>3</th>\n",
       "      <td>https://michigantoday.umich.edu/2022/08/26/pos...</td>\n",
       "      <td>Scientist/author Becca Levy, BA ’87, is a prof...</td>\n",
       "    </tr>\n",
       "  </tbody>\n",
       "</table>\n",
       "</div>"
      ],
      "text/plain": [
       "                                                 url  \\\n",
       "0        http://gianttortoise.org/en/beyond-tracking   \n",
       "1  https://www.dhs.gov/blue-campaign/what-human-t...   \n",
       "2  https://www.dol.gov/agencies/odep/program-area...   \n",
       "3  https://michigantoday.umich.edu/2022/08/26/pos...   \n",
       "\n",
       "                                                text  \n",
       "0  Having discovered some of the mechanisms gover...  \n",
       "1  Human trafficking involves the use of force, f...  \n",
       "2  Today, a confluence of factors is prompting Am...  \n",
       "3  Scientist/author Becca Levy, BA ’87, is a prof...  "
      ]
     },
     "execution_count": 60,
     "metadata": {},
     "output_type": "execute_result"
    }
   ],
   "source": [
    "df"
   ]
  },
  {
   "cell_type": "code",
   "execution_count": 61,
   "metadata": {},
   "outputs": [],
   "source": [
    "# List of new texts to classify\n",
    "new_texts = df.text"
   ]
  },
  {
   "cell_type": "code",
   "execution_count": 62,
   "metadata": {},
   "outputs": [],
   "source": [
    "# Tokenize the new texts\n",
    "new_sequences = tokenizer.texts_to_sequences(new_texts)\n",
    "\n",
    "# Pad the sequences\n",
    "new_padded_sequences = pad_sequences(new_sequences, maxlen=max_length)"
   ]
  },
  {
   "cell_type": "code",
   "execution_count": 63,
   "metadata": {},
   "outputs": [
    {
     "name": "stdout",
     "output_type": "stream",
     "text": [
      "\u001b[1m1/1\u001b[0m \u001b[32m━━━━━━━━━━━━━━━━━━━━\u001b[0m\u001b[37m\u001b[0m \u001b[1m0s\u001b[0m 32ms/step\n"
     ]
    }
   ],
   "source": [
    "# Make predictions\n",
    "predictions_prob = model.predict(new_padded_sequences)\n",
    "\n",
    "# Convert probabilities to class labels\n",
    "predicted_labels = np.argmax(predictions_prob, axis=1)"
   ]
  },
  {
   "cell_type": "code",
   "execution_count": 64,
   "metadata": {},
   "outputs": [
    {
     "name": "stdout",
     "output_type": "stream",
     "text": [
      "Text: Having discovered some of the mechanisms governing migration and other movements, we wanted to place our new knowledge into a wider ecological and conservation context. We knew that food availability influenced tortoise migrations, but we had little data on tortoise diets. Previous studies had been conducted in the 1980s before the explosion of introduced species on Santa Cruz Island. We spent several hundred hours observing tortoises and recording all feeding activity, noting the plant species eaten and other details such as bites per minute. We also studied how plant communities change along the elevation gradient. Tortoises eat at least 96 different plant species. Young mature leaves are preferred, and fruit also makes up a large part of the diet. Galapagos tortoises consume many plant species that were introduced to Galapagos by people often preferring these over native and endemic plant species. Many of these species were brought to Galapagos as food sources for people and livestock and are highly nutritious so it is not surprising that tortoises feed on them. We found that the physical condition of tortoises may even be improved when feeding on plant species introduced to Galapagos by people. An unfortunate consequence of feeding heavily on fruits from non-native plant species introduced to Galapagos, such as guava, is that as tortoises eat the fruit, they are also ingesting the seeds they contain. We found that an average pile of tortoise poo contains several hundred seeds of the highly invasive guava tree.  We also found that it might take two to three weeks for a seed to pass through a tortoise’s digestive tract and during this time, a migrating tortoise may travel several kilometers.  For this reason, tortoises are capable of dispersing huge numbers of seeds over large distances.  This accelerates the spread of these species, which can be highly invasive and destructive to native Galapagos plant communities. On the other hand, tortoises are also dispersing the seeds of many native species and potentially maintaining them on the islands. Tortoises can genuinely be called the “Gardeners of the Galapagos.” This story is written up more fully in the following journal articles: The Dominance of Introduced Plant Species in the Diets of Migratory Galapagos Tortoises Increases with Elevation on a Human‐Occupied Island Seed dispersal by Galápagos tortoises Digesta retention time in the Galápagos tortoise (Chelonoidis nigra) Plant species dispersed by Galapagos tortoises surf the wave of habitat suitability under anthropogenic climate change As Galapagos develops economically and the human population rises, it will be increasingly important to understand the dynamics of tortoise-human interactions. Like migratory species all over the world, long distance migration by Galapagos tortoises means that many tortoises leave the protective security of the Galapagos National Park and enter private farmland in the highlands of Santa Cruz and other inhabited islands. This has the potential to lead to challenges both for farmers and for tortoises – several giant tortoises can destroy a field of newly planted maize, for example. On the other hand, the presence of tortoises is compatible with cattle farming. Furthermore, the private lands of Galapagos are dedicated to different uses, from arable agriculture, to livestock production, to tourism and urban development, all of which have different implications for tortoise conservation and the relationship between tortoise and people. As Galapagos develops economically and the human population rises, it will be increasingly important to understand the dynamics of tortoise-human interactions. Additional research started in 2017 involves in-depth studies within farmlands to better understand how tortoise movements and behavior might depend on land use and habitat fragmentation, and which strategies could be implemented together with land owners and stakeholders to solve these potential conflicts and their consequences. We have integrated research on this issue into the Galapagos Tortoise Movement Ecology Program. First, a brief stakeholder workshop was initiated in 2018 to bring private landowners, researchers, and members of the Galapagos National Park Directorate and local institutions together to generate a constructive dialogue to share experiences and discuss strategies and solutions to potential conflicts between people and tortoises. Attitudes toward tortoises were almost exclusively positive or benign, with landowners recognizing the importance of tortoises to the entire economy of Galapagos, and the non-trivial recognition that the “tortoises were here first.” However, if tortoises are perceived to limit rather than enhance economic opportunity, this situation could change. As a follow-up to this work, we facilitated a study on tortoise ecology in private lands conducted by PhD student Kyana Pike. The study involved analysis of how tortoise ranging and behavior in private lands are influenced by land use type and human infrastructure such as roads, fences, and natural and artificial ponds. Global Positioning System (GPS)-tagged tortoises spend an average of 150 days per year in private lands, and a tortoise uses an average of four farms, up to a maximum of 24 different farms. Use of multiple farms under multiple different land uses by a single tortoise indicates that finding shared solutions to tortoise conservation and conflict mitigation on Santa Cruz island will require cooperation across the agricultural zone. Contrary to our expectations, fences in their current configuration seem to present few serious barriers to tortoise movements. Most fences are in a poor state of repair, however even fences designed to keep tortoises out of crop areas are relatively porous. This important research is in its early days and we will be reporting on outputs in detail in the future. Initial scientific publications on this work are published in the following journal articles: Identifying Shared Strategies and Solutions to the Human–Giant Tortoise Interactions in Santa Cruz, Galapagos: A Nominal Group Technique Application Migration by Galapagos giant tortoises requires landscape-scale conservation efforts About Us Our People Research Projects Publications About Us Our People Research Projects Publications Donate Grant a Wish Volunteer Our Supporters Donate Grant a Wish Volunteer Our Supporters English Español English Español Privacy Policy Cookie Policy Privacy Policy Cookie Policy \n",
      "Predicted SDG: 16\n",
      "\n",
      "Text: Human trafficking involves the use of force, fraud, or coercion to obtain some type of labor or commercial sex act. Every year, millions of men, women, and children are trafficked worldwide – including right here in the United States. It can happen in any community and victims can be any age, race, gender, or nationality. Traffickers might use the following methods to lure victims into trafficking situations: Language barriers, fear of their traffickers, and/or fear of law enforcement frequently keep victims from seeking help, making human trafficking a hidden crime. Traffickers look for people who are easy targets for a variety of reasons, including: The trauma caused by the traffickers can be so great that many may not identify themselves as victims or ask for help, even in highly public settings. Many myths and misconceptions exist. Recognizing key indicators of human trafficking is the first step in identifying victims and can help save a life. Not all indicators listed are present in every human trafficking situation, and the presence or absence of any of the indicators is not necessarily proof of human trafficking. The safety of the public as well as the victim is important. Do not attempt to confront a suspected trafficker directly or alert a victim to any suspicions. It is up to law enforcement to investigate suspected cases of human trafficking. Visit the links below to learn more about human trafficking and how you can protect yourself and others. Violence Manipulation False promises of well-paying jobs Romantic relationships  Psychological or emotional vulnerability Economic hardship Lack of a social safety net Natural disasters Political instability \n",
      "Predicted SDG: 16\n",
      "\n",
      "Text: Today, a confluence of factors is prompting America to change the way it thinks about age and work. The economic downturn, shifting perceptions of retirement, increased workplace flexibility, and the aging of the \"baby boom\" generation are all contributing to people working longer. Many of these capable, experienced mature workers develop disabilities as they age, or existing disabilities may become more significant. To retain the talents of these valuable, skilled workers, employers can implement a variety of workplace practices, many of which benefit all workers and make good business sense. The following resources provide more information about the topic of older workers: National Technical Assistance and Research Center to Promote Leadership for Increasing the Employment and Economic Independence of Adults with Disabilities (NTAR Leadership Center) issued these reports that examine the disability implications of an aging workforce. Postsecondary education is increasingly important for older job seekers' reemployment. Yet, they may face potential challenges in accessing and completing education and training due to their greater likelihood of having acquired age-related disabilities. The following three briefs provide new research data and findings on older students and dislocated workers researched by the NTAR Leadership Center. Existing data, such as that from the Integrated Postsecondary Education Data System, does not track the numbers of dislocated workers enrolled at community colleges; and nearly three-quarters of community colleges reported very few students with disabilities enrolled (less than three percent of their student population). Moreover, among older students, unidentified disabilities are not documented, which provides challenges for community colleges to document their statistics on older students with disabilities. Community College Practices that Serve Older Dislocated Workers (PDF) — This brief highlights strategies and findings at five community colleges serving high numbers of dislocated workers and examines how those practices meet the needs of older workers, some of whom may be aging with or into disabilities. How Are Community Colleges Serving the Needs of Older Students with Disabilities? (PDF) — To examine the issues related to older students with disabilities, this brief documents the research conducted to learn how colleges—in particular, community colleges—can better support the education and training needs of these students. Working for Adults: State Policies and Community College Practices to Better Serve Adult Learners at Community Colleges During the Great Recession and Beyond (PDF) — This report synthesizes knowledge about how community colleges serve adults. The first section provides background and context on adults at community colleges, while the second section details the methodology used in this research. Other sections describe the findings on the enrollment of adults at community colleges, recent initiatives that have sought to support adults at community colleges, the state policy and college practices related to adults' enrollment, and research on student outcomes and the implications for what is known about state policy and college practice. The final section highlights recommendations for policymakers and practitioners interested in serving adults at community colleges, including those with disabilities. Stay at Work/Return to Work Programs — A resource from the Employer Assistance and Resource Network on Disability Inclusion (EARN) that shows the advantages of stay-at-work and return-to-work (SAW/RTW) programs, discusses successful SAW/RTW retention strategies, and helps employers decide which SAW/RTW strategies will work in their organizations. Job Accommodation Network guidance on accommodations for employees who are aging.Accommodation and Compliance Series: Employees who are AgingOur Aging Workforce: A Look at the Benefits of Job Accommodation — JAN's Consultants' Corner Accommodation and Compliance Series: Employees who are Aging Our Aging Workforce: A Look at the Benefits of Job Accommodation — JAN's Consultants' Corner Senior Community Service Employment Program (SCSEP) — ETA-funded community service and work-based program that provides subsidized training for low-income persons 55 or older who are unemployed and have poor employment prospects. Age Discrimination in Employment Act of 1967 Age Discrimination in Employment Act of 1975 DOL Employment & Training Administration's Older Worker Initiative — The aging and retirement of the baby boom generation will have impacts on many aspects of our society, including possible labor and skill shortages. This initiative looks at ways to encourage older employees to continue working. Retaining Older Workers — Information from EARN on strategies to retain the talents of older workers, who may develop disabilities as they age, and how to attract new, older workers. Making Work More Flexible: Opportunities and Evidence (PDF) — This report considers the availability, utilization, and demand for workplace flexibility, with a particular emphasis on older workers. Although many aspects of flexibility can benefit workers of any age, the desire of some older workers to phase into retirement introduces some special considerations. Phased Retirement and Flexible Retirement Arrangements: Strategies for Retaining Skilled Workers (PDF) — Implementing appealing work arrangements that attract and retain workers 50+ may become increasingly important in an organization's bid to survive in today's marketplace. Phased retirement, which allows the employee to reduce work time in his or her current job, is regarded as one strategy to encourage hard-to-replace, experienced workers to postpone leaving the labor force. This report discusses the factors influencing the business need for phased retirement, how to create a phased retirement program, how to market a phased retirement program to employees, challenges in implementing phased retirement, proposed regulatory solutions, and cutting-edge employee programs. Protecting Family Caregivers from Employment Discrimination (AARP Public Policy Institute) (PDF) — This report is the first in a series of AARP Public Policy Institute papers on issues of eldercare and the workplace. It highlights the realities of changing demographics and issues affecting working caregivers of older adults. It defines family responsibilities discrimination (FRD), explains why FRD is a policy matter, and describes the types of workplace discrimination encountered by working caregivers. Highlights of a GAO Forum: Engaging and Retaining Older Workers (PDF) Older Workers: Some Best Practices and Strategies for Engaging and Retaining Older Workers (PDF) Building Your Career After 50 — AARP resources to assist 50 and older workers looking to switch careers or stay in their profession. Older Workers: An exploration of the Benefits, Barriers, and Adaptations for Older People in the Workforce — A study from the National Institutes of Health which looks at the experiences and perceptions of paid workers aged 60 years and older. The study explains why older people continue to work and the barriers and facilitators they encounter. \n",
      "Predicted SDG: 8\n",
      "\n",
      "Text: Scientist/author Becca Levy, BA ’87, is a professor of both epidemiology and psychology at Yale. (Image courtesy of Levy.) American author and activist Betty Friedan once observed: “Aging is not ‘lost youth’ but a new stage of opportunity and strength.” Those who share her optimism may find the pathway to longevity. Scientist Becca Levy, BA ’87, a leading expert on the psychology of successful aging, says taking an upbeat attitude toward aging can not only improve your physical and mental health as you grow older ― but also may add nearly eight years to your lifespan. She explains how our positive and negative age beliefs shape our behaviors, health, and, ultimately, our longevity in her new book Breaking the Age Code (William Morrow; April 12, 2022). Levy also reveals that some health issues commonly associated with old age ― hearing loss, high blood pressure, and cardiovascular disease ― are the products of negative stereotypes and prejudices absorbed from our social surroundings. All too often, these fatalistic attitudes about the inevitability of declining health in later life become self-fulfilling prophecies. “Age beliefs impact our health in ways big and small,” says Levy, who became interested in psychology as a U-M undergraduate. She completed her graduate work at Harvard, and is now a professor of epidemiology and of psychology at Yale. “People who have more-positive beliefs tend to show benefits in health outcomes and healing compared to those who hold more-negative ones,” she says. Over the past 20 years, Levy has conducted groundbreaking studies on different health conditions affected by attitudes toward aging. Her results show some surprising results: While Levy’s research underscores the value of celebrating our advancing years as a time for creativity, exploration, and accomplishment, today’s reality is often quite different. All too frequently, personal views, cultural stereotypes, and institutional biases about aging are tilted in a negative direction. In American society, old age is presented as something to be feared and avoided. Aging individuals are portrayed as fragile, forgetful, and a burden on society. The elderly are marginalized, ignored, and “put out to pasture.” Levy describes this pervasive ageism in the U.S. and other countries as the “Silent Epidemic” because it operates, undetected, in so many different realms ― social media, advertising, pop culture, Hollywood, and health care. Awareness: Blame-shifting: Challenge: During America’s early history, views of aging were generally positive. However, in the mid-1800s, this positivity began to wane, giving way to less-favorable age beliefs that have taken hold over time. “The increase in negativity is due in part to the rise of advertisement and the growth of the antiaging industry,” says Levy, who has studied American age beliefs in written language spanning the past two centuries. “Companies have made a lot of money promoting negative images of aging as a way to sell their anti-aging products.” The research firm Statista projects the global anti-aging market will generate more than $67 billion in 2022 by peddling pills, creams, tinctures, elixirs, hormonal supplements, and procedures that falsely claim to halt or even reverse aging. Another source of ageism has been the increased “medicalization” of aging, Levy says. “Advertisements typically present images of older people as patients and recipients of medical care,” she says. “These ads are not balanced by images showing the heterogeneity of older adults who come from diverse backgrounds and are engaged in different activities, such as work, volunteering, sports, and recreation.” Television, movies, and social media have amplified misbeliefs about aging. Ageism has become “click bait” on Facebook, Twitter, Instagram, and YouTube. Agelining has relegated elderly residents to age-segregated senior housing where they are, in effect, “quarantined” from society. Ageism in the workplace has cost many senior workers with years of valuable experience in their jobs, livelihoods, and feelings of self-worth. Two-thirds of workers in America said they have witnessed or personally experienced age discrimination in their place of work, according to an AARP survey. Western medicine relies heavily on negative age stereotypes, with their narrative of inevitable decline, because it’s profitable, according to Levy. This view of aging as a pathology can result in the undertreatment of elderly patients, she says. Levy teamed up with an economist and statistician to put a price tag on the health costs resulting from ageism. They found it totaled $63 billion per year in the U.S.,  more than the cost of morbid obesity, one of America’s most expensive chronic conditions. “The World Health Organization has called ageism the most prevalent and socially acceptable form of prejudice and discrimination today,” says Levy, who has testified before the U.S. Senate on the adverse effects of ageism. She also has contributed to briefs submitted to the U.S. Supreme Court in age-discrimination cases and has participated in United Nations discussions of ageism. Despite the entrenched negative age stereotypes that permeate American society, Levy is convinced they can be dislodged and replaced by more-favorable views of aging and older people. “The most important takeaway from my research is that we know age beliefs are malleable,” Levy says. “We can increase our awareness of them, challenge some negative ones, and strengthen some positive ones.” She demonstrated in one lab study that exposing older participants to subliminal positive messages about aging improved their physical function, including walking and balance. Another study showed that positive age beliefs lowered stress and helped at-risk people ward off the symptoms of Alzheimer’s disease. (William Morrow, April 2022.) The time has come to shift from an age-declining to an age-thriving mindset, according to Levy, who presents a blueprint for overcoming structural ageism in her book. “I think we are getting closer to a tipping point where an age liberation movement will take hold,” she says. “Growing numbers of people are becoming aware and angry about ageism.” National organizations, such as the American Psychological Association, the Gerontological Society of America, and HelpAge International, have begun issuing urgent warnings about the hazards of ageism. The Gray Panthers in New York City continue to confront age stereotypes and discrimination head-on. In addition, the World Health Organization recently launched its Campaign to Combat Ageism, which 194 countries have endorsed. Levy is serving as a scientific adviser to the campaign. However, until the groundswell of opposition to structural ageism in our social and policy institutions gains traction, ordinary people will need tools to navigate, question, and challenge negative stereotypes and attitudes on aging. Levy has developed an “ABC Method” that individuals can use to harness the power of their own positive age beliefs to improve their health. This approach consists of three stages: “As individuals acquire a greater sense of their value as older persons, they are more likely to participate in an age liberation movement,” Levy says. “The movement, in turn, is bound to further increase their sense of value as older persons. This cultural redefinition will contribute to a virtuous cycle.” Cognition ― People who stress positive age beliefs enjoy better memory performance. Physical health ― Patients with favorable attitudes about aging are more likely to recover from severe disability. Mental health ― Individuals who see aging as a positive experience have lower stress levels. Longevity ― Younger people who adopt a positive outlook on aging live an average of 7.5 years longer. Jot down five words or phrases that come to mind when you think of an older person. Create a portfolio of positive older role models you admire. Notice age beliefs in the media. Think about ways to increase your intergenerational contacts and interactions. Find the real cause of unpleasant events or challenges, such as momentary forgetfulness. Name the company or institution that benefits from negative age stereotypes. Identify ageism when older workers are targeted. Present accurate information to debunk negative age stereotypes. Get involved in politics. Confront ageism and negative age images in print, television, social media, and advertising. Increasing Awareness of negative age beliefs within and around us Placing Blame on ageism and its societal sources Challenging negative age beliefs \n",
      "Predicted SDG: 5\n",
      "\n"
     ]
    }
   ],
   "source": [
    "# Convert numeric labels to their corresponding SDG names\n",
    "predicted_sdg_labels = label_encoder.inverse_transform(predicted_labels)\n",
    "\n",
    "# Display the predictions\n",
    "for i, text in enumerate(new_texts):\n",
    "    print(f\"Text: {text}\")\n",
    "    print(f\"Predicted SDG: {predicted_sdg_labels[i]}\\n\")"
   ]
  },
  {
   "cell_type": "code",
   "execution_count": null,
   "metadata": {},
   "outputs": [],
   "source": []
  }
 ],
 "metadata": {
  "kernelspec": {
   "display_name": "nlp",
   "language": "python",
   "name": "python3"
  },
  "language_info": {
   "codemirror_mode": {
    "name": "ipython",
    "version": 3
   },
   "file_extension": ".py",
   "mimetype": "text/x-python",
   "name": "python",
   "nbconvert_exporter": "python",
   "pygments_lexer": "ipython3",
   "version": "3.12.2"
  },
  "orig_nbformat": 4
 },
 "nbformat": 4,
 "nbformat_minor": 2
}
