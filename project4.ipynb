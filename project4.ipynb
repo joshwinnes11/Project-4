{
 "cells": [
  {
   "cell_type": "markdown",
   "metadata": {},
   "source": [
    "# **Math-485: Topics in Data Science**\n",
    "\n",
    "## **Textual Data Unit Project**\n",
    "\n",
    "### Josh Winnes\n",
    "---\n",
    "## **Objective**\n",
    "\n",
    "To produce an experimental evaluation of classifier performance on UN SDG labeled textual data. The evaluation should be conducted on a set of algorithms in combination with a set of NLP preprocessing steps, and conclude with the best performing algorithm with the associated preprocessing steps.\n",
    "\n",
    "## **Specifications**\n",
    "\n",
    "* prepare data as having been done in class and homework  \n",
    "* write a function that will   \n",
    "  * takes in a corpus (such as prepared so far) as input, and  \n",
    "  * takes another parameter of “classifier\\_algorithm” for the algorithm to use, the parameter settings for the algorithm should be part of the “classifier\\_algorithm” parameter  \n",
    "  * run the classifier with train\\_test split, i.e., train on the training set and test on the test set  \n",
    "  * report the metrics of precision, recall, f1\\_score, and accuracy  \n",
    "* run various classification algorithms on the UN SDG labeled data we have been using in class  \n",
    "  * multinomial naive bayes   \n",
    "  * multilayer perceptron (sklearn.neural\\_network.MLPClassifier, note to use min\\_df to ensure computation can be completed in reasonable time)  \n",
    "  * ridge regression (sklearn.linear\\_model.Ridge)  \n",
    "  * combine with different preprocessing settings  \n",
    "    * use count vectors vs. tfidf vectors  \n",
    "    * use unigram only, bigram only, or both  \n",
    "* evaluate all performance results in one table, with all configurations, bold face the numbers that give the best performance\n",
    "\n",
    "for example, for one configuration, e.g., bigram with min\\_df \\= 3, the portion of table should contain\n",
    "\n",
    "|  | MultinomialNB | MLP | Ridge |\n",
    "| :---- | :---- | :---- | :---- |\n",
    "| precision |  |  |  |\n",
    "| recall |  |  |  |\n",
    "| f1 |  |  |  |\n",
    "| accuracy |  |  |  |\n",
    "\n",
    "* for each SDG, what are the most differentiating features according to the classifier?  \n",
    "* are there any overlaps between the SDG vocabularies?\n",
    "\n",
    "## **Deliverables**\n",
    "\n",
    "* A self contained python jupyter notebook that implements the specifications.  \n",
    "* take the main text content from these pages, and feed them into your classifier and see how your model classifies them. Are the classifications reasonable? find a case where your classification is not reasonable and explain what the model does that leads to the not ideal classification.  \n",
    "  [http://gianttortoise.org/en/beyond-tracking](http://gianttortoise.org/en/beyond-tracking)  \n",
    "  [https://www.dhs.gov/blue-campaign/what-human-trafficking](https://www.dhs.gov/blue-campaign/what-human-trafficking)  \n",
    "  [https://www.dol.gov/agencies/odep/program-areas/individuals/older-workers](https://www.dol.gov/agencies/odep/program-areas/individuals/older-workers)  \n",
    "  [https://michigantoday.umich.edu/2022/08/26/positively-breaking-the-age-code/](https://michigantoday.umich.edu/2022/08/26/positively-breaking-the-age-code/)\n",
    "\n",
    "## **Important note (to help reduce computation time if that is an issue)**\n",
    "\n",
    "* when the classification takes too long to run on your computer (most likely they will on this project), set min\\_df in the vectorizer to reduce the vocabulary size, which will reduce the matrix size drastically.   \n",
    "* if you choose to run experiments on fewer number of SDGs, please be sure to include SDG 8 in your collection, and choose several others among  \\[2,3,4,8,9,10,14,15,16\\], to show your work on multiple classes\n",
    "\n",
    "---"
   ]
  },
  {
   "cell_type": "markdown",
   "metadata": {},
   "source": [
    "### **Scraping the Websites using Beautiful Soup 4**\n",
    "This is necessary in order to get the text data into a dataframe so we can actually process the text in the website using our sklearn models later"
   ]
  },
  {
   "cell_type": "code",
   "execution_count": 1,
   "metadata": {},
   "outputs": [
    {
     "data": {
      "text/html": [
       "<div>\n",
       "<style scoped>\n",
       "    .dataframe tbody tr th:only-of-type {\n",
       "        vertical-align: middle;\n",
       "    }\n",
       "\n",
       "    .dataframe tbody tr th {\n",
       "        vertical-align: top;\n",
       "    }\n",
       "\n",
       "    .dataframe thead th {\n",
       "        text-align: right;\n",
       "    }\n",
       "</style>\n",
       "<table border=\"1\" class=\"dataframe\">\n",
       "  <thead>\n",
       "    <tr style=\"text-align: right;\">\n",
       "      <th></th>\n",
       "      <th>url</th>\n",
       "      <th>text</th>\n",
       "    </tr>\n",
       "  </thead>\n",
       "  <tbody>\n",
       "    <tr>\n",
       "      <th>0</th>\n",
       "      <td>http://gianttortoise.org/en/beyond-tracking</td>\n",
       "      <td>Having discovered some of the mechanisms gover...</td>\n",
       "    </tr>\n",
       "    <tr>\n",
       "      <th>1</th>\n",
       "      <td>https://www.dhs.gov/blue-campaign/what-human-t...</td>\n",
       "      <td>Human trafficking involves the use of force, f...</td>\n",
       "    </tr>\n",
       "    <tr>\n",
       "      <th>2</th>\n",
       "      <td>https://www.dol.gov/agencies/odep/program-area...</td>\n",
       "      <td>Today, a confluence of factors is prompting Am...</td>\n",
       "    </tr>\n",
       "    <tr>\n",
       "      <th>3</th>\n",
       "      <td>https://michigantoday.umich.edu/2022/08/26/pos...</td>\n",
       "      <td>Scientist/author Becca Levy, BA ’87, is a prof...</td>\n",
       "    </tr>\n",
       "  </tbody>\n",
       "</table>\n",
       "</div>"
      ],
      "text/plain": [
       "                                                 url  \\\n",
       "0        http://gianttortoise.org/en/beyond-tracking   \n",
       "1  https://www.dhs.gov/blue-campaign/what-human-t...   \n",
       "2  https://www.dol.gov/agencies/odep/program-area...   \n",
       "3  https://michigantoday.umich.edu/2022/08/26/pos...   \n",
       "\n",
       "                                                text  \n",
       "0  Having discovered some of the mechanisms gover...  \n",
       "1  Human trafficking involves the use of force, f...  \n",
       "2  Today, a confluence of factors is prompting Am...  \n",
       "3  Scientist/author Becca Levy, BA ’87, is a prof...  "
      ]
     },
     "execution_count": 1,
     "metadata": {},
     "output_type": "execute_result"
    }
   ],
   "source": [
    "import requests\n",
    "from bs4 import BeautifulSoup\n",
    "import pandas as pd\n",
    "\n",
    "# List of URLs to scrape\n",
    "urls = [\n",
    "    \"http://gianttortoise.org/en/beyond-tracking\",\n",
    "    \"https://www.dhs.gov/blue-campaign/what-human-trafficking\",\n",
    "    \"https://www.dol.gov/agencies/odep/program-areas/individuals/older-workers\",\n",
    "    \"https://michigantoday.umich.edu/2022/08/26/positively-breaking-the-age-code/\"\n",
    "]\n",
    "\n",
    "# Dictionary that links URLs to HTML Class names to locate the main text\n",
    "class_name_dict = {\n",
    "    \"http://gianttortoise.org/en/beyond-tracking\":'elementor-container elementor-column-gap-default',\n",
    "    \"https://www.dhs.gov/blue-campaign/what-human-trafficking\":'field field--name-body field--type-text-with-summary field--label-hidden field__item',\n",
    "    \"https://www.dol.gov/agencies/odep/program-areas/individuals/older-workers\":'field field--name-field-p-text field--type-text-long field--label-hidden clearfix',\n",
    "    \"https://michigantoday.umich.edu/2022/08/26/positively-breaking-the-age-code/\":'post'\n",
    "}\n",
    "\n",
    "# Function to extract the main text from a webpage\n",
    "def extract_main_text(url, class_name):\n",
    "    response = requests.get(url)\n",
    "\n",
    "    soup = BeautifulSoup(response.content, \"html.parser\")\n",
    "\n",
    "    # Extract main text        \n",
    "    divs = soup.find_all('div', class_ = class_name)\n",
    "    text = ''\n",
    "    for div in divs:\n",
    "        p_elements = div.find_all('p')\n",
    "        li_elements = div.find_all('li')\n",
    "        for p in p_elements:\n",
    "            text += p.get_text() + \" \"\n",
    "        for li in li_elements:\n",
    "            text += li.get_text() + ' '\n",
    "\n",
    "    return text\n",
    "\n",
    "data = {\"url\": [], \"text\": []}\n",
    "\n",
    "for url in urls:\n",
    "    text = extract_main_text(url, class_name_dict.get(url))\n",
    "    data[\"url\"].append(url)\n",
    "    data[\"text\"].append(text)\n",
    "\n",
    "# Create a DataFrame\n",
    "df = pd.DataFrame(data)\n",
    "\n",
    "df.head()"
   ]
  },
  {
   "cell_type": "markdown",
   "metadata": {},
   "source": [
    "### **Importing the training data**"
   ]
  },
  {
   "cell_type": "code",
   "execution_count": 2,
   "metadata": {},
   "outputs": [],
   "source": [
    "import pandas as pd\n",
    "import numpy as np\n",
    "import seaborn as sns \n",
    "from matplotlib import pyplot as plt\n",
    "import matplotlib as mpl\n",
    "from sklearn import metrics\n",
    "from sklearn.metrics import confusion_matrix\n",
    "from sklearn.metrics import ConfusionMatrixDisplay\n",
    "from sklearn.model_selection import train_test_split\n",
    "from sklearn.naive_bayes import MultinomialNB\n",
    "from sklearn.neural_network import MLPClassifier\n",
    "\n",
    "from sklearn.ensemble import RandomForestClassifier\n",
    "from sklearn.feature_extraction.text import CountVectorizer\n",
    "from sklearn.feature_extraction.text import TfidfVectorizer\n",
    "\n",
    "from langdetect import detect"
   ]
  },
  {
   "cell_type": "code",
   "execution_count": 3,
   "metadata": {},
   "outputs": [],
   "source": [
    "data_dir = \"/Users/joshwinnes/Library/Mobile Documents/com~apple~CloudDocs/Wheaton College/fall 2024/topics in data science/data/\"\n",
    "sdg_names = pd.read_csv(data_dir + \"sdg_name_definition.csv\")\n",
    "\n",
    "text_file_name = \"osdg-community-data-v2024-04-01.csv\"\n",
    "text_df = pd.read_csv(data_dir + text_file_name,sep = \"\\t\",  quotechar='\"')\n",
    "text_df.drop(text_df.columns.values[0],axis = 1, inplace=True)\n",
    "text_df = text_df.query(\"agreement > 0.5 and (labels_positive - labels_negative) > 2\").reset_index(drop=True)\n",
    "text_df[\"lang\"] = text_df[\"text\"].apply(lambda x: detect(x))\n",
    "text_df = text_df.query(\"lang == 'en'\")\n",
    "text_df.reset_index(inplace=True,drop=True)"
   ]
  },
  {
   "cell_type": "code",
   "execution_count": 4,
   "metadata": {},
   "outputs": [
    {
     "data": {
      "text/html": [
       "<div>\n",
       "<style scoped>\n",
       "    .dataframe tbody tr th:only-of-type {\n",
       "        vertical-align: middle;\n",
       "    }\n",
       "\n",
       "    .dataframe tbody tr th {\n",
       "        vertical-align: top;\n",
       "    }\n",
       "\n",
       "    .dataframe thead th {\n",
       "        text-align: right;\n",
       "    }\n",
       "</style>\n",
       "<table border=\"1\" class=\"dataframe\">\n",
       "  <thead>\n",
       "    <tr style=\"text-align: right;\">\n",
       "      <th></th>\n",
       "      <th>term</th>\n",
       "      <th>freq</th>\n",
       "    </tr>\n",
       "  </thead>\n",
       "  <tbody>\n",
       "    <tr>\n",
       "      <th>countries</th>\n",
       "      <td>countries</td>\n",
       "      <td>8494</td>\n",
       "    </tr>\n",
       "    <tr>\n",
       "      <th>women</th>\n",
       "      <td>women</td>\n",
       "      <td>6017</td>\n",
       "    </tr>\n",
       "    <tr>\n",
       "      <th>development</th>\n",
       "      <td>development</td>\n",
       "      <td>5889</td>\n",
       "    </tr>\n",
       "    <tr>\n",
       "      <th>public</th>\n",
       "      <td>public</td>\n",
       "      <td>4819</td>\n",
       "    </tr>\n",
       "    <tr>\n",
       "      <th>social</th>\n",
       "      <td>social</td>\n",
       "      <td>4755</td>\n",
       "    </tr>\n",
       "    <tr>\n",
       "      <th>...</th>\n",
       "      <td>...</td>\n",
       "      <td>...</td>\n",
       "    </tr>\n",
       "    <tr>\n",
       "      <th>pahang</th>\n",
       "      <td>pahang</td>\n",
       "      <td>1</td>\n",
       "    </tr>\n",
       "    <tr>\n",
       "      <th>paging</th>\n",
       "      <td>paging</td>\n",
       "      <td>1</td>\n",
       "    </tr>\n",
       "    <tr>\n",
       "      <th>escapees</th>\n",
       "      <td>escapees</td>\n",
       "      <td>1</td>\n",
       "    </tr>\n",
       "    <tr>\n",
       "      <th>pagers</th>\n",
       "      <td>pagers</td>\n",
       "      <td>1</td>\n",
       "    </tr>\n",
       "    <tr>\n",
       "      <th>joue</th>\n",
       "      <td>joue</td>\n",
       "      <td>1</td>\n",
       "    </tr>\n",
       "  </tbody>\n",
       "</table>\n",
       "<p>45872 rows × 2 columns</p>\n",
       "</div>"
      ],
      "text/plain": [
       "                    term  freq\n",
       "countries      countries  8494\n",
       "women              women  6017\n",
       "development  development  5889\n",
       "public            public  4819\n",
       "social            social  4755\n",
       "...                  ...   ...\n",
       "pahang            pahang     1\n",
       "paging            paging     1\n",
       "escapees        escapees     1\n",
       "pagers            pagers     1\n",
       "joue                joue     1\n",
       "\n",
       "[45872 rows x 2 columns]"
      ]
     },
     "execution_count": 4,
     "metadata": {},
     "output_type": "execute_result"
    }
   ],
   "source": [
    "corpus = text_df.text\n",
    "count_vectorizer = CountVectorizer(stop_words='english')\n",
    "count_vectorizer.fit(corpus)\n",
    "count_vector = count_vectorizer.transform(corpus).toarray() \n",
    "count_vector_df = pd.DataFrame(count_vector, columns=count_vectorizer.get_feature_names_out())\n",
    "term_freq = pd.DataFrame({\"term\": count_vector_df.columns.values, \"freq\" : count_vector_df.sum(axis=0)})\n",
    "term_freq.sort_values(by=\"freq\", ascending=False)"
   ]
  },
  {
   "cell_type": "code",
   "execution_count": 5,
   "metadata": {},
   "outputs": [],
   "source": [
    "corpus = text_df.text\n",
    "sdg_num = text_df.sdg\n",
    "X_train, X_test, y_train, y_test = \\\n",
    "    train_test_split(corpus, sdg_num, test_size=0.20, random_state=11)\n",
    "    \n",
    "X_train_count_vector = count_vectorizer.transform(X_train) \n",
    "X_test_count_vector = count_vectorizer.transform(X_test) "
   ]
  },
  {
   "cell_type": "markdown",
   "metadata": {},
   "source": [
    "### **Training the Models**"
   ]
  },
  {
   "cell_type": "markdown",
   "metadata": {},
   "source": [
    "### Multinomial Naive Bayes"
   ]
  },
  {
   "cell_type": "raw",
   "metadata": {},
   "source": [
    "count_multinomialNB_clf = MultinomialNB().fit(X_train_count_vector, y_train)\n",
    "y_pred = count_multinomialNB_clf.predict(X_test_count_vector)\n",
    "fig, ax = plt.subplots(figsize=(15, 5))\n",
    "font = {'family': 'sans-serif', 'weight': 'heavy','size': 7,}\n",
    "ConfusionMatrixDisplay.from_predictions(y_test, y_pred, text_kw=font, ax=ax, cmap=mpl.colormaps[\"YlGnBu\"],colorbar=None)"
   ]
  },
  {
   "cell_type": "raw",
   "metadata": {},
   "source": [
    "print(metrics.classification_report(y_test,y_pred, digits = 4))"
   ]
  },
  {
   "cell_type": "markdown",
   "metadata": {},
   "source": [
    "### Multilayer Perceptron"
   ]
  },
  {
   "cell_type": "raw",
   "metadata": {},
   "source": [
    "count_MLP_clf = MLPClassifier().fit(X_train_count_vector, y_train)\n",
    "y_pred = count_MLP_clf.predict(X_test_count_vector)\n",
    "fig, ax = plt.subplots(figsize=(15, 5))\n",
    "font = {'family': 'sans-serif', 'weight': 'heavy','size': 7,}\n",
    "ConfusionMatrixDisplay.from_predictions(y_test, y_pred, text_kw=font, ax=ax, cmap=mpl.colormaps[\"YlGnBu\"],colorbar=None)"
   ]
  },
  {
   "cell_type": "raw",
   "metadata": {},
   "source": [
    "print(metrics.classification_report(y_test,y_pred, digits = 4))"
   ]
  },
  {
   "cell_type": "markdown",
   "metadata": {},
   "source": [
    "### Ridge Regressor"
   ]
  },
  {
   "cell_type": "code",
   "execution_count": 6,
   "metadata": {},
   "outputs": [],
   "source": [
    "from sklearn.linear_model import RidgeClassifierCV"
   ]
  },
  {
   "cell_type": "raw",
   "metadata": {},
   "source": [
    "count_ridge_clf = RidgeClassifierCV(alphas=[0.1, 1.0, 10.0], cv=5, scoring='accuracy').fit(X_train_count_vector, y_train)\n",
    "y_pred_ridge = count_ridge_clf.predict(X_test_count_vector)\n",
    "fig, ax = plt.subplots(figsize=(15, 5))\n",
    "font = {'family': 'sans-serif', 'weight': 'heavy','size': 7,}\n",
    "ConfusionMatrixDisplay.from_predictions(y_test, y_pred_ridge, text_kw=font, ax=ax, cmap=mpl.colormaps[\"YlGnBu\"],colorbar=None)"
   ]
  },
  {
   "cell_type": "raw",
   "metadata": {},
   "source": [
    "print(metrics.classification_report(y_test,y_pred_ridge, digits = 4))"
   ]
  },
  {
   "cell_type": "markdown",
   "metadata": {},
   "source": [
    "After training all the models, it looks like the MLP Classifier performed the best. Typically, I'd then use GridsearchCV to fine tune the MLP Classifier to get an even better one, but that will take too long. So, since the RidgeClassifier only scored marginally lower than the MLP Classifier, but has a way shorter training time, I'll move forward with the RidgeClassifier."
   ]
  },
  {
   "cell_type": "markdown",
   "metadata": {},
   "source": [
    "### **Fine Tuning the Model**"
   ]
  },
  {
   "cell_type": "raw",
   "metadata": {},
   "source": [
    "count_ridge_clf.alpha_"
   ]
  },
  {
   "cell_type": "raw",
   "metadata": {},
   "source": [
    "better_ridge_clf = RidgeClassifierCV(\n",
    "    alphas = [0.05, 0.075, 0.1, 0.125, 0.15],\n",
    "    cv = 5,\n",
    "    scoring = 'accuracy'\n",
    ")\n",
    "\n",
    "better_ridge_clf.fit(X_train_count_vector, y_train)\n",
    "\n",
    "y_pred = better_ridge_clf.predict(X_test_count_vector)\n",
    "fig, ax = plt.subplots(figsize=(15, 5))\n",
    "font = {'family': 'sans-serif', 'weight': 'heavy','size': 7,}\n",
    "ConfusionMatrixDisplay.from_predictions(y_test, y_pred_ridge, text_kw=font, ax=ax, cmap=mpl.colormaps[\"YlGnBu\"],colorbar=None)"
   ]
  },
  {
   "cell_type": "raw",
   "metadata": {},
   "source": [
    "print(metrics.classification_report(y_test, y_pred, digits = 4))"
   ]
  },
  {
   "cell_type": "raw",
   "metadata": {},
   "source": [
    "better_ridge_clf.alpha_"
   ]
  },
  {
   "cell_type": "raw",
   "metadata": {},
   "source": [
    "better_ridge_clf = RidgeClassifierCV(\n",
    "    alphas = [0.095, 0.1, 0.105],\n",
    "    cv = 5,\n",
    "    scoring = 'accuracy'\n",
    ")\n",
    "\n",
    "better_ridge_clf.fit(X_train_count_vector, y_train)\n",
    "\n",
    "y_pred = better_ridge_clf.predict(X_test_count_vector)\n",
    "fig, ax = plt.subplots(figsize=(15, 5))\n",
    "font = {'family': 'sans-serif', 'weight': 'heavy','size': 7,}\n",
    "ConfusionMatrixDisplay.from_predictions(y_test, y_pred_ridge, text_kw=font, ax=ax, cmap=mpl.colormaps[\"YlGnBu\"],colorbar=None)"
   ]
  },
  {
   "cell_type": "raw",
   "metadata": {},
   "source": [
    "print(metrics.classification_report(y_test, y_pred, digits = 4))"
   ]
  },
  {
   "cell_type": "raw",
   "metadata": {},
   "source": [
    "better_ridge_clf.alpha_"
   ]
  },
  {
   "cell_type": "code",
   "execution_count": 8,
   "metadata": {},
   "outputs": [
    {
     "data": {
      "text/plain": [
       "<sklearn.metrics._plot.confusion_matrix.ConfusionMatrixDisplay at 0x15fac8590>"
      ]
     },
     "execution_count": 8,
     "metadata": {},
     "output_type": "execute_result"
    },
    {
     "data": {
      "image/png": "[encoded data removed]",
      "text/plain": [
       "<Figure size 1500x500 with 1 Axes>"
      ]
     },
     "metadata": {},
     "output_type": "display_data"
    }
   ],
   "source": [
    "better_ridge_clf = RidgeClassifierCV(\n",
    "    alphas = [0.093,0.095,0.097],\n",
    "    cv = 5,\n",
    "    scoring = 'accuracy'\n",
    ")\n",
    "\n",
    "better_ridge_clf.fit(X_train_count_vector, y_train)\n",
    "\n",
    "y_pred = better_ridge_clf.predict(X_test_count_vector)\n",
    "fig, ax = plt.subplots(figsize=(15, 5))\n",
    "font = {'family': 'sans-serif', 'weight': 'heavy','size': 7,}\n",
    "ConfusionMatrixDisplay.from_predictions(y_test, y_pred, text_kw=font, ax=ax, cmap=mpl.colormaps[\"YlGnBu\"],colorbar=None)"
   ]
  },
  {
   "cell_type": "code",
   "execution_count": 9,
   "metadata": {},
   "outputs": [
    {
     "name": "stdout",
     "output_type": "stream",
     "text": [
      "              precision    recall  f1-score   support\n",
      "\n",
      "           1     0.5248    0.6272    0.5714       287\n",
      "           2     0.7068    0.7297    0.7181       185\n",
      "           3     0.7736    0.7553    0.7643       380\n",
      "           4     0.6893    0.7874    0.7351       541\n",
      "           5     0.7433    0.7809    0.7616       534\n",
      "           6     0.8577    0.7690    0.8109       290\n",
      "           7     0.7271    0.7495    0.7381       455\n",
      "           8     0.3333    0.4396    0.3791       182\n",
      "           9     0.6062    0.6615    0.6326       384\n",
      "          10     0.5119    0.5747    0.5415       261\n",
      "          11     0.7133    0.6503    0.6803       306\n",
      "          12     0.7426    0.5639    0.6410       133\n",
      "          13     0.6886    0.7481    0.7171       266\n",
      "          14     0.9286    0.7647    0.8387       170\n",
      "          15     0.8071    0.7175    0.7597       315\n",
      "          16     0.9728    0.7079    0.8195       606\n",
      "\n",
      "    accuracy                         0.7084      5295\n",
      "   macro avg     0.7079    0.6892    0.6943      5295\n",
      "weighted avg     0.7278    0.7084    0.7136      5295\n",
      "\n",
      "0.097\n"
     ]
    }
   ],
   "source": [
    "print(metrics.classification_report(y_test, y_pred, digits = 4))\n",
    "print(better_ridge_clf.alpha_)"
   ]
  },
  {
   "cell_type": "markdown",
   "metadata": {},
   "source": [
    "At this point, changing the alpha isn't doing anything anymore so I'm happy with this classifier."
   ]
  },
  {
   "cell_type": "code",
   "execution_count": 10,
   "metadata": {},
   "outputs": [],
   "source": [
    "RIDGECLASSIFIER = better_ridge_clf"
   ]
  },
  {
   "cell_type": "markdown",
   "metadata": {},
   "source": [
    "### **Preparing the text from the websites**"
   ]
  },
  {
   "cell_type": "code",
   "execution_count": 11,
   "metadata": {},
   "outputs": [
    {
     "data": {
      "text/plain": [
       "array([5, 7, 8, 5])"
      ]
     },
     "execution_count": 11,
     "metadata": {},
     "output_type": "execute_result"
    }
   ],
   "source": [
    "text_to_predict = df.text\n",
    "text_to_predict_transformed = count_vectorizer.transform(text_to_predict)\n",
    "\n",
    "RIDGECLASSIFIER.predict(text_to_predict_transformed)"
   ]
  },
  {
   "cell_type": "code",
   "execution_count": 13,
   "metadata": {},
   "outputs": [
    {
     "data": {
      "text/html": [
       "<div>\n",
       "<style scoped>\n",
       "    .dataframe tbody tr th:only-of-type {\n",
       "        vertical-align: middle;\n",
       "    }\n",
       "\n",
       "    .dataframe tbody tr th {\n",
       "        vertical-align: top;\n",
       "    }\n",
       "\n",
       "    .dataframe thead th {\n",
       "        text-align: right;\n",
       "    }\n",
       "</style>\n",
       "<table border=\"1\" class=\"dataframe\">\n",
       "  <thead>\n",
       "    <tr style=\"text-align: right;\">\n",
       "      <th></th>\n",
       "      <th>sdg</th>\n",
       "      <th>sdg_name</th>\n",
       "      <th>sdg_definition</th>\n",
       "    </tr>\n",
       "  </thead>\n",
       "  <tbody>\n",
       "    <tr>\n",
       "      <th>0</th>\n",
       "      <td>1</td>\n",
       "      <td>No Poverty</td>\n",
       "      <td>End poverty in all its forms everywhere</td>\n",
       "    </tr>\n",
       "    <tr>\n",
       "      <th>1</th>\n",
       "      <td>2</td>\n",
       "      <td>Zero Hunger</td>\n",
       "      <td>End hunger, achieve food security and improved...</td>\n",
       "    </tr>\n",
       "    <tr>\n",
       "      <th>2</th>\n",
       "      <td>3</td>\n",
       "      <td>Good Health and Well Being</td>\n",
       "      <td>Ensure healthy lives and promote well-being fo...</td>\n",
       "    </tr>\n",
       "    <tr>\n",
       "      <th>3</th>\n",
       "      <td>4</td>\n",
       "      <td>Quality Education</td>\n",
       "      <td>Ensure inclusive and equitable quality educati...</td>\n",
       "    </tr>\n",
       "    <tr>\n",
       "      <th>4</th>\n",
       "      <td>5</td>\n",
       "      <td>Gender Equality</td>\n",
       "      <td>Achieve gender equality and empower all women ...</td>\n",
       "    </tr>\n",
       "    <tr>\n",
       "      <th>5</th>\n",
       "      <td>6</td>\n",
       "      <td>Clean Water and Sanitation</td>\n",
       "      <td>Ensure availability and sustainable management...</td>\n",
       "    </tr>\n",
       "    <tr>\n",
       "      <th>6</th>\n",
       "      <td>7</td>\n",
       "      <td>Affordable and Clean Energy</td>\n",
       "      <td>Ensure access to affordable, reliable, sustain...</td>\n",
       "    </tr>\n",
       "    <tr>\n",
       "      <th>7</th>\n",
       "      <td>8</td>\n",
       "      <td>Decent Work and Economic Growth</td>\n",
       "      <td>Promote sustained, inclusive and sustainable e...</td>\n",
       "    </tr>\n",
       "    <tr>\n",
       "      <th>8</th>\n",
       "      <td>9</td>\n",
       "      <td>Industry, Innovation and Infrastructure</td>\n",
       "      <td>Build resilient infrastructure, promote inclus...</td>\n",
       "    </tr>\n",
       "    <tr>\n",
       "      <th>9</th>\n",
       "      <td>10</td>\n",
       "      <td>Reduced Inequalities</td>\n",
       "      <td>Reduce inequality within and among countries</td>\n",
       "    </tr>\n",
       "    <tr>\n",
       "      <th>10</th>\n",
       "      <td>11</td>\n",
       "      <td>Sustainable Cities and Communities</td>\n",
       "      <td>Make cities and human settlements inclusive, s...</td>\n",
       "    </tr>\n",
       "    <tr>\n",
       "      <th>11</th>\n",
       "      <td>12</td>\n",
       "      <td>Responsible Consumption and Production</td>\n",
       "      <td>Ensure sustainable consumption and production ...</td>\n",
       "    </tr>\n",
       "    <tr>\n",
       "      <th>12</th>\n",
       "      <td>13</td>\n",
       "      <td>Climate Action</td>\n",
       "      <td>Take urgent action to combat climate change an...</td>\n",
       "    </tr>\n",
       "    <tr>\n",
       "      <th>13</th>\n",
       "      <td>14</td>\n",
       "      <td>Life Below Water</td>\n",
       "      <td>Conserve and sustainably use the oceans, seas ...</td>\n",
       "    </tr>\n",
       "    <tr>\n",
       "      <th>14</th>\n",
       "      <td>15</td>\n",
       "      <td>Life on Land</td>\n",
       "      <td>Protect, restore and promote sustainable use o...</td>\n",
       "    </tr>\n",
       "    <tr>\n",
       "      <th>15</th>\n",
       "      <td>16</td>\n",
       "      <td>Peace, Justice and Strong Institutions</td>\n",
       "      <td>Promote peaceful and inclusive societies for s...</td>\n",
       "    </tr>\n",
       "    <tr>\n",
       "      <th>16</th>\n",
       "      <td>17</td>\n",
       "      <td>Partnerships for the Goals</td>\n",
       "      <td>Strengthen the means of implementation and rev...</td>\n",
       "    </tr>\n",
       "  </tbody>\n",
       "</table>\n",
       "</div>"
      ],
      "text/plain": [
       "    sdg                                 sdg_name  \\\n",
       "0     1                               No Poverty   \n",
       "1     2                              Zero Hunger   \n",
       "2     3               Good Health and Well Being   \n",
       "3     4                        Quality Education   \n",
       "4     5                          Gender Equality   \n",
       "5     6               Clean Water and Sanitation   \n",
       "6     7              Affordable and Clean Energy   \n",
       "7     8          Decent Work and Economic Growth   \n",
       "8     9  Industry, Innovation and Infrastructure   \n",
       "9    10                     Reduced Inequalities   \n",
       "10   11       Sustainable Cities and Communities   \n",
       "11   12   Responsible Consumption and Production   \n",
       "12   13                           Climate Action   \n",
       "13   14                         Life Below Water   \n",
       "14   15                             Life on Land   \n",
       "15   16   Peace, Justice and Strong Institutions   \n",
       "16   17               Partnerships for the Goals   \n",
       "\n",
       "                                       sdg_definition  \n",
       "0             End poverty in all its forms everywhere  \n",
       "1   End hunger, achieve food security and improved...  \n",
       "2   Ensure healthy lives and promote well-being fo...  \n",
       "3   Ensure inclusive and equitable quality educati...  \n",
       "4   Achieve gender equality and empower all women ...  \n",
       "5   Ensure availability and sustainable management...  \n",
       "6   Ensure access to affordable, reliable, sustain...  \n",
       "7   Promote sustained, inclusive and sustainable e...  \n",
       "8   Build resilient infrastructure, promote inclus...  \n",
       "9        Reduce inequality within and among countries  \n",
       "10  Make cities and human settlements inclusive, s...  \n",
       "11  Ensure sustainable consumption and production ...  \n",
       "12  Take urgent action to combat climate change an...  \n",
       "13  Conserve and sustainably use the oceans, seas ...  \n",
       "14  Protect, restore and promote sustainable use o...  \n",
       "15  Promote peaceful and inclusive societies for s...  \n",
       "16  Strengthen the means of implementation and rev...  "
      ]
     },
     "execution_count": 13,
     "metadata": {},
     "output_type": "execute_result"
    }
   ],
   "source": [
    "sdg_names"
   ]
  },
  {
   "cell_type": "code",
   "execution_count": null,
   "metadata": {},
   "outputs": [],
   "source": []
  }
 ],
 "metadata": {
  "kernelspec": {
   "display_name": "nlp",
   "language": "python",
   "name": "python3"
  },
  "language_info": {
   "codemirror_mode": {
    "name": "ipython",
    "version": 3
   },
   "file_extension": ".py",
   "mimetype": "text/x-python",
   "name": "python",
   "nbconvert_exporter": "python",
   "pygments_lexer": "ipython3",
   "version": "3.12.2"
  },
  "orig_nbformat": 4
 },
 "nbformat": 4,
 "nbformat_minor": 2
}
